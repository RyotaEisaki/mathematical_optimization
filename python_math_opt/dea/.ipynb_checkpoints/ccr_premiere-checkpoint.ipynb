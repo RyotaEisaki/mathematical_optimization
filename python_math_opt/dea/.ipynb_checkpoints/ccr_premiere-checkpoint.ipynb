{
 "cells": [
  {
   "cell_type": "code",
   "execution_count": 18,
   "metadata": {},
   "outputs": [],
   "source": [
    "%matplotlib inline\n",
    "import numpy as np\n",
    "from pulp import *\n",
    "import pandas as pd\n",
    "import pprint\n",
    "import csv\n",
    "MEPS=1.03-6"
   ]
  },
  {
   "cell_type": "code",
   "execution_count": 19,
   "metadata": {},
   "outputs": [
    {
     "data": {
      "text/html": [
       "<div>\n",
       "<style scoped>\n",
       "    .dataframe tbody tr th:only-of-type {\n",
       "        vertical-align: middle;\n",
       "    }\n",
       "\n",
       "    .dataframe tbody tr th {\n",
       "        vertical-align: top;\n",
       "    }\n",
       "\n",
       "    .dataframe thead th {\n",
       "        text-align: right;\n",
       "    }\n",
       "</style>\n",
       "<table border=\"1\" class=\"dataframe\">\n",
       "  <thead>\n",
       "    <tr style=\"text-align: right;\">\n",
       "      <th></th>\n",
       "      <th>Club</th>\n",
       "    </tr>\n",
       "  </thead>\n",
       "  <tbody>\n",
       "    <tr>\n",
       "      <th>0</th>\n",
       "      <td>Liverpool</td>\n",
       "    </tr>\n",
       "    <tr>\n",
       "      <th>1</th>\n",
       "      <td>Manchester City</td>\n",
       "    </tr>\n",
       "    <tr>\n",
       "      <th>2</th>\n",
       "      <td>Chelsea</td>\n",
       "    </tr>\n",
       "    <tr>\n",
       "      <th>3</th>\n",
       "      <td>Leicester City</td>\n",
       "    </tr>\n",
       "    <tr>\n",
       "      <th>4</th>\n",
       "      <td>Manchester United</td>\n",
       "    </tr>\n",
       "    <tr>\n",
       "      <th>5</th>\n",
       "      <td>Wolverhampton Wanderers</td>\n",
       "    </tr>\n",
       "    <tr>\n",
       "      <th>6</th>\n",
       "      <td>Tottenham Hotspur</td>\n",
       "    </tr>\n",
       "    <tr>\n",
       "      <th>7</th>\n",
       "      <td>Sheffield United</td>\n",
       "    </tr>\n",
       "    <tr>\n",
       "      <th>8</th>\n",
       "      <td>Burnley</td>\n",
       "    </tr>\n",
       "    <tr>\n",
       "      <th>9</th>\n",
       "      <td>Arsenal</td>\n",
       "    </tr>\n",
       "  </tbody>\n",
       "</table>\n",
       "</div>"
      ],
      "text/plain": [
       "                      Club\n",
       "0                Liverpool\n",
       "1          Manchester City\n",
       "2                  Chelsea\n",
       "3           Leicester City\n",
       "4        Manchester United\n",
       "5  Wolverhampton Wanderers\n",
       "6        Tottenham Hotspur\n",
       "7         Sheffield United\n",
       "8                  Burnley\n",
       "9                  Arsenal"
      ]
     },
     "execution_count": 19,
     "metadata": {},
     "output_type": "execute_result"
    }
   ],
   "source": [
    "df=pd.read_csv('premiere2.csv',header=0,usecols=[0])\n",
    "df"
   ]
  },
  {
   "cell_type": "code",
   "execution_count": 20,
   "metadata": {},
   "outputs": [
    {
     "name": "stdout",
     "output_type": "stream",
     "text": [
      "[['Liverpool']\n",
      " ['Manchester City']\n",
      " ['Chelsea']\n",
      " ['Leicester City']\n",
      " ['Manchester United']\n",
      " ['Wolverhampton Wanderers']\n",
      " ['Tottenham Hotspur']\n",
      " ['Sheffield United']\n",
      " ['Burnley']\n",
      " ['Arsenal']]\n"
     ]
    }
   ],
   "source": [
    "DMUs=df.values\n",
    "print(DMUs)"
   ]
  },
  {
   "cell_type": "code",
   "execution_count": 21,
   "metadata": {},
   "outputs": [
    {
     "data": {
      "text/html": [
       "<div>\n",
       "<style scoped>\n",
       "    .dataframe tbody tr th:only-of-type {\n",
       "        vertical-align: middle;\n",
       "    }\n",
       "\n",
       "    .dataframe tbody tr th {\n",
       "        vertical-align: top;\n",
       "    }\n",
       "\n",
       "    .dataframe thead th {\n",
       "        text-align: right;\n",
       "    }\n",
       "</style>\n",
       "<table border=\"1\" class=\"dataframe\">\n",
       "  <thead>\n",
       "    <tr style=\"text-align: right;\">\n",
       "      <th></th>\n",
       "      <th>Manager Salary(€M)</th>\n",
       "      <th>Expenditure(€M)</th>\n",
       "      <th>Seasons in Premiere League</th>\n",
       "    </tr>\n",
       "    <tr>\n",
       "      <th>Club</th>\n",
       "      <th></th>\n",
       "      <th></th>\n",
       "      <th></th>\n",
       "    </tr>\n",
       "  </thead>\n",
       "  <tbody>\n",
       "    <tr>\n",
       "      <th>Liverpool</th>\n",
       "      <td>24.0</td>\n",
       "      <td>10.40</td>\n",
       "      <td>28</td>\n",
       "    </tr>\n",
       "    <tr>\n",
       "      <th>Manchester City</th>\n",
       "      <td>27.0</td>\n",
       "      <td>166.82</td>\n",
       "      <td>23</td>\n",
       "    </tr>\n",
       "    <tr>\n",
       "      <th>Chelsea</th>\n",
       "      <td>7.5</td>\n",
       "      <td>45.00</td>\n",
       "      <td>28</td>\n",
       "    </tr>\n",
       "    <tr>\n",
       "      <th>Leicester City</th>\n",
       "      <td>9.1</td>\n",
       "      <td>104.30</td>\n",
       "      <td>14</td>\n",
       "    </tr>\n",
       "    <tr>\n",
       "      <th>Manchester United</th>\n",
       "      <td>8.3</td>\n",
       "      <td>214.00</td>\n",
       "      <td>28</td>\n",
       "    </tr>\n",
       "    <tr>\n",
       "      <th>Wolverhampton Wanderers</th>\n",
       "      <td>8.0</td>\n",
       "      <td>121.80</td>\n",
       "      <td>6</td>\n",
       "    </tr>\n",
       "    <tr>\n",
       "      <th>Tottenham Hotspur</th>\n",
       "      <td>23.0</td>\n",
       "      <td>148.50</td>\n",
       "      <td>28</td>\n",
       "    </tr>\n",
       "    <tr>\n",
       "      <th>Sheffield United</th>\n",
       "      <td>3.0</td>\n",
       "      <td>69.00</td>\n",
       "      <td>4</td>\n",
       "    </tr>\n",
       "    <tr>\n",
       "      <th>Burnley</th>\n",
       "      <td>3.6</td>\n",
       "      <td>19.40</td>\n",
       "      <td>6</td>\n",
       "    </tr>\n",
       "    <tr>\n",
       "      <th>Arsenal</th>\n",
       "      <td>6.5</td>\n",
       "      <td>160.40</td>\n",
       "      <td>28</td>\n",
       "    </tr>\n",
       "  </tbody>\n",
       "</table>\n",
       "</div>"
      ],
      "text/plain": [
       "                         Manager Salary(€M)  Expenditure(€M)  \\\n",
       "Club                                                           \n",
       "Liverpool                              24.0            10.40   \n",
       "Manchester City                        27.0           166.82   \n",
       "Chelsea                                 7.5            45.00   \n",
       "Leicester City                          9.1           104.30   \n",
       "Manchester United                       8.3           214.00   \n",
       "Wolverhampton Wanderers                 8.0           121.80   \n",
       "Tottenham Hotspur                      23.0           148.50   \n",
       "Sheffield United                        3.0            69.00   \n",
       "Burnley                                 3.6            19.40   \n",
       "Arsenal                                 6.5           160.40   \n",
       "\n",
       "                         Seasons in Premiere League  \n",
       "Club                                                 \n",
       "Liverpool                                        28  \n",
       "Manchester City                                  23  \n",
       "Chelsea                                          28  \n",
       "Leicester City                                   14  \n",
       "Manchester United                                28  \n",
       "Wolverhampton Wanderers                           6  \n",
       "Tottenham Hotspur                                28  \n",
       "Sheffield United                                  4  \n",
       "Burnley                                           6  \n",
       "Arsenal                                          28  "
      ]
     },
     "execution_count": 21,
     "metadata": {},
     "output_type": "execute_result"
    }
   ],
   "source": [
    "dfx=pd.read_csv('premiere2.csv',header=0,index_col=0,usecols=[0,3,4,5])\n",
    "dfx"
   ]
  },
  {
   "cell_type": "code",
   "execution_count": 22,
   "metadata": {},
   "outputs": [],
   "source": [
    "x=dfx"
   ]
  },
  {
   "cell_type": "code",
   "execution_count": 23,
   "metadata": {},
   "outputs": [
    {
     "name": "stdout",
     "output_type": "stream",
     "text": [
      "                         Manager Salary(€M)  Expenditure(€M)  \\\n",
      "Club                                                           \n",
      "Liverpool                              24.0            10.40   \n",
      "Manchester City                        27.0           166.82   \n",
      "Chelsea                                 7.5            45.00   \n",
      "Leicester City                          9.1           104.30   \n",
      "Manchester United                       8.3           214.00   \n",
      "Wolverhampton Wanderers                 8.0           121.80   \n",
      "Tottenham Hotspur                      23.0           148.50   \n",
      "Sheffield United                        3.0            69.00   \n",
      "Burnley                                 3.6            19.40   \n",
      "Arsenal                                 6.5           160.40   \n",
      "\n",
      "                         Seasons in Premiere League  \n",
      "Club                                                 \n",
      "Liverpool                                        28  \n",
      "Manchester City                                  23  \n",
      "Chelsea                                          28  \n",
      "Leicester City                                   14  \n",
      "Manchester United                                28  \n",
      "Wolverhampton Wanderers                           6  \n",
      "Tottenham Hotspur                                28  \n",
      "Sheffield United                                  4  \n",
      "Burnley                                           6  \n",
      "Arsenal                                          28  \n"
     ]
    }
   ],
   "source": [
    "print(dfx)"
   ]
  },
  {
   "cell_type": "code",
   "execution_count": 24,
   "metadata": {},
   "outputs": [
    {
     "data": {
      "text/plain": [
       "(10, 3)"
      ]
     },
     "execution_count": 24,
     "metadata": {},
     "output_type": "execute_result"
    }
   ],
   "source": [
    "x.shape"
   ]
  },
  {
   "cell_type": "code",
   "execution_count": 26,
   "metadata": {},
   "outputs": [
    {
     "data": {
      "text/html": [
       "<div>\n",
       "<style scoped>\n",
       "    .dataframe tbody tr th:only-of-type {\n",
       "        vertical-align: middle;\n",
       "    }\n",
       "\n",
       "    .dataframe tbody tr th {\n",
       "        vertical-align: top;\n",
       "    }\n",
       "\n",
       "    .dataframe thead th {\n",
       "        text-align: right;\n",
       "    }\n",
       "</style>\n",
       "<table border=\"1\" class=\"dataframe\">\n",
       "  <thead>\n",
       "    <tr style=\"text-align: right;\">\n",
       "      <th></th>\n",
       "      <th>Profit</th>\n",
       "      <th>Points</th>\n",
       "    </tr>\n",
       "  </thead>\n",
       "  <tbody>\n",
       "    <tr>\n",
       "      <th>0</th>\n",
       "      <td>152425146</td>\n",
       "      <td>93</td>\n",
       "    </tr>\n",
       "    <tr>\n",
       "      <th>1</th>\n",
       "      <td>150986355</td>\n",
       "      <td>75</td>\n",
       "    </tr>\n",
       "    <tr>\n",
       "      <th>2</th>\n",
       "      <td>146030216</td>\n",
       "      <td>63</td>\n",
       "    </tr>\n",
       "    <tr>\n",
       "      <th>3</th>\n",
       "      <td>123328078</td>\n",
       "      <td>62</td>\n",
       "    </tr>\n",
       "    <tr>\n",
       "      <th>4</th>\n",
       "      <td>142193180</td>\n",
       "      <td>62</td>\n",
       "    </tr>\n",
       "    <tr>\n",
       "      <th>5</th>\n",
       "      <td>127165114</td>\n",
       "      <td>59</td>\n",
       "    </tr>\n",
       "    <tr>\n",
       "      <th>6</th>\n",
       "      <td>145230801</td>\n",
       "      <td>58</td>\n",
       "    </tr>\n",
       "    <tr>\n",
       "      <th>7</th>\n",
       "      <td>96628865</td>\n",
       "      <td>54</td>\n",
       "    </tr>\n",
       "    <tr>\n",
       "      <th>8</th>\n",
       "      <td>107340558</td>\n",
       "      <td>54</td>\n",
       "    </tr>\n",
       "    <tr>\n",
       "      <th>9</th>\n",
       "      <td>142193180</td>\n",
       "      <td>53</td>\n",
       "    </tr>\n",
       "  </tbody>\n",
       "</table>\n",
       "</div>"
      ],
      "text/plain": [
       "      Profit  Points\n",
       "0  152425146      93\n",
       "1  150986355      75\n",
       "2  146030216      63\n",
       "3  123328078      62\n",
       "4  142193180      62\n",
       "5  127165114      59\n",
       "6  145230801      58\n",
       "7   96628865      54\n",
       "8  107340558      54\n",
       "9  142193180      53"
      ]
     },
     "execution_count": 26,
     "metadata": {},
     "output_type": "execute_result"
    }
   ],
   "source": [
    "dfy=pd.read_csv('premiere2.csv',header=0,usecols=[1,2])\n",
    "dfy"
   ]
  },
  {
   "cell_type": "code",
   "execution_count": 27,
   "metadata": {},
   "outputs": [],
   "source": [
    "y=dfy"
   ]
  },
  {
   "cell_type": "code",
   "execution_count": 28,
   "metadata": {},
   "outputs": [
    {
     "data": {
      "text/plain": [
       "(10, 2)"
      ]
     },
     "execution_count": 28,
     "metadata": {},
     "output_type": "execute_result"
    }
   ],
   "source": [
    "y.shape"
   ]
  },
  {
   "cell_type": "code",
   "execution_count": 29,
   "metadata": {},
   "outputs": [],
   "source": [
    "n,m=x.shape\n",
    "n,s=y.shape"
   ]
  },
  {
   "cell_type": "code",
   "execution_count": 30,
   "metadata": {},
   "outputs": [],
   "source": [
    "res=[]"
   ]
  },
  {
   "cell_type": "code",
   "execution_count": 31,
   "metadata": {},
   "outputs": [
    {
     "name": "stdout",
     "output_type": "stream",
     "text": [
      "DMU_0 :  ['Liverpool']\n",
      "vs:  [0.         0.02133541 0.02778971]\n",
      "us:  [0.         0.01075269]\n",
      " \n",
      "DMU_1 :  ['Manchester City']\n",
      "vs:  [0.         0.00098743 0.03631637]\n",
      "us:  [2.2084327e-09 0.0000000e+00]\n",
      " \n",
      "DMU_2 :  ['Chelsea']\n",
      "vs:  [0.12969803 0.00060588 0.        ]\n",
      "us:  [4.4593308e-09 0.0000000e+00]\n",
      " \n",
      "DMU_3 :  ['Leicester City']\n",
      "vs:  [0.         0.00161499 0.05939692]\n",
      "us:  [3.6119828e-09 0.0000000e+00]\n",
      " \n",
      "DMU_4 :  ['Manchester United']\n",
      "vs:  [0.12048193 0.         0.        ]\n",
      "us:  [3.7405571e-09 0.0000000e+00]\n",
      " \n",
      "DMU_5 :  ['Wolverhampton Wanderers']\n",
      "vs:  [0.         0.         0.16666667]\n",
      "us:  [6.8992497e-09 0.0000000e+00]\n",
      " \n",
      "DMU_6 :  ['Tottenham Hotspur']\n",
      "vs:  [0.         0.00084868 0.03121325]\n",
      "us:  [1.8981072e-09 0.0000000e+00]\n",
      " \n",
      "DMU_7 :  ['Sheffield United']\n",
      "vs:  [0.30099329 0.00140609 0.        ]\n",
      "us:  [1.0348875e-08 0.0000000e+00]\n",
      " \n",
      "DMU_8 :  ['Burnley']\n",
      "vs:  [0.         0.00416543 0.15319845]\n",
      "us:  [9.3161431e-09 0.0000000e+00]\n",
      " \n",
      "DMU_9 :  ['Arsenal']\n",
      "vs:  [0.15384615 0.         0.        ]\n",
      "us:  [4.7764036e-09 0.0000000e+00]\n",
      " \n"
     ]
    }
   ],
   "source": [
    "for o in range(n):\n",
    "    prob=LpProblem('DMU_'+str(o),LpMaximize)\n",
    "    #　重み\n",
    "    v=[LpVariable('v'+str(i),lowBound=0,\n",
    "                  cat='Continuous') for i in range(m)]\n",
    "    u=[LpVariable('u'+str(i),lowBound=0,\n",
    "                  cat='Continuous') for i in range(s)]\n",
    "    #　目的関数\n",
    "    prob += lpDot(u,y.iloc[o,:])\n",
    "\n",
    "    # 制約条件\n",
    "    prob += lpDot(v,x.iloc[o,:])==1,'Normalize'+str(o)\n",
    "\n",
    "    for j in range(n):\n",
    "        prob += lpDot(u,y.iloc[j,:]) <= lpDot(v,x.iloc[j,:])\n",
    "\n",
    "    prob.solve()\n",
    "    vs=np.array([v[i].varValue for i in range(m)]) #v*\n",
    "    us=np.array([u[i].varValue for i in range(s)]) #u*\n",
    "    print('DMU_'+str(o),': ',DMUs[o])\n",
    "    print('vs: ',vs)\n",
    "    print('us: ',us)\n",
    "    print(' ')\n",
    "#     # 参照集合作成\n",
    "#     (eo,)=np.where(np.abs(np.dot(vs,x)-np.dot(us,y))<= MEPS)\n",
    "\n",
    "#     res.append([DMUs[o],value(prob.objective),\n",
    "#                 set(eo),tuple(vs),tuple(us)])\n",
    "\n",
    "    res.append([DMUs[o],value(prob.objective)])"
   ]
  },
  {
   "cell_type": "code",
   "execution_count": 32,
   "metadata": {},
   "outputs": [
    {
     "name": "stdout",
     "output_type": "stream",
     "text": [
      "[[array(['Liverpool'], dtype=object), 0.999999984], [array(['Manchester City'], dtype=object), 0.3334432036358085], [array(['Chelsea'], dtype=object), 0.6511970399394528], [array(['Leicester City'], dtype=object), 0.44545889649305836], [array(['Manchester United'], dtype=object), 0.531881709020578], [array(['Wolverhampton Wanderers'], dtype=object), 0.8773438746149658], [array(['Tottenham Hotspur'], dtype=object), 0.27566362903986724], [array(['Sheffield United'], dtype=object), 1.0000000452768751], [array(['Burnley'], dtype=object), 0.9999999987618498], [array(['Arsenal'], dtype=object), 0.679172016847448]]\n"
     ]
    }
   ],
   "source": [
    "print(res)"
   ]
  },
  {
   "cell_type": "code",
   "execution_count": 33,
   "metadata": {},
   "outputs": [
    {
     "data": {
      "text/html": [
       "<div>\n",
       "<style scoped>\n",
       "    .dataframe tbody tr th:only-of-type {\n",
       "        vertical-align: middle;\n",
       "    }\n",
       "\n",
       "    .dataframe tbody tr th {\n",
       "        vertical-align: top;\n",
       "    }\n",
       "\n",
       "    .dataframe thead th {\n",
       "        text-align: right;\n",
       "    }\n",
       "</style>\n",
       "<table border=\"1\" class=\"dataframe\">\n",
       "  <thead>\n",
       "    <tr style=\"text-align: right;\">\n",
       "      <th></th>\n",
       "      <th>Team</th>\n",
       "      <th>Efficiency</th>\n",
       "    </tr>\n",
       "  </thead>\n",
       "  <tbody>\n",
       "    <tr>\n",
       "      <th>7</th>\n",
       "      <td>[Sheffield United]</td>\n",
       "      <td>1.000000</td>\n",
       "    </tr>\n",
       "    <tr>\n",
       "      <th>8</th>\n",
       "      <td>[Burnley]</td>\n",
       "      <td>1.000000</td>\n",
       "    </tr>\n",
       "    <tr>\n",
       "      <th>0</th>\n",
       "      <td>[Liverpool]</td>\n",
       "      <td>1.000000</td>\n",
       "    </tr>\n",
       "    <tr>\n",
       "      <th>5</th>\n",
       "      <td>[Wolverhampton Wanderers]</td>\n",
       "      <td>0.877344</td>\n",
       "    </tr>\n",
       "    <tr>\n",
       "      <th>9</th>\n",
       "      <td>[Arsenal]</td>\n",
       "      <td>0.679172</td>\n",
       "    </tr>\n",
       "    <tr>\n",
       "      <th>2</th>\n",
       "      <td>[Chelsea]</td>\n",
       "      <td>0.651197</td>\n",
       "    </tr>\n",
       "    <tr>\n",
       "      <th>4</th>\n",
       "      <td>[Manchester United]</td>\n",
       "      <td>0.531882</td>\n",
       "    </tr>\n",
       "    <tr>\n",
       "      <th>3</th>\n",
       "      <td>[Leicester City]</td>\n",
       "      <td>0.445459</td>\n",
       "    </tr>\n",
       "    <tr>\n",
       "      <th>1</th>\n",
       "      <td>[Manchester City]</td>\n",
       "      <td>0.333443</td>\n",
       "    </tr>\n",
       "    <tr>\n",
       "      <th>6</th>\n",
       "      <td>[Tottenham Hotspur]</td>\n",
       "      <td>0.275664</td>\n",
       "    </tr>\n",
       "  </tbody>\n",
       "</table>\n",
       "</div>"
      ],
      "text/plain": [
       "                        Team  Efficiency\n",
       "7         [Sheffield United]    1.000000\n",
       "8                  [Burnley]    1.000000\n",
       "0                [Liverpool]    1.000000\n",
       "5  [Wolverhampton Wanderers]    0.877344\n",
       "9                  [Arsenal]    0.679172\n",
       "2                  [Chelsea]    0.651197\n",
       "4        [Manchester United]    0.531882\n",
       "3           [Leicester City]    0.445459\n",
       "1          [Manchester City]    0.333443\n",
       "6        [Tottenham Hotspur]    0.275664"
      ]
     },
     "execution_count": 33,
     "metadata": {},
     "output_type": "execute_result"
    }
   ],
   "source": [
    "df_f=pd.DataFrame(res,columns=['Team','Efficiency'])\n",
    "df_s=df_f.sort_values('Efficiency',ascending=False)\n",
    "df_s"
   ]
  },
  {
   "cell_type": "code",
   "execution_count": 82,
   "metadata": {},
   "outputs": [],
   "source": [
    "# def DEA_CCR(x,y,DMUs):\n",
    "#     n,m=x.shape\n",
    "#     n,s=y.shape\n",
    "    \n",
    "#     res=[]\n",
    "    \n",
    "#     for o in range(n):\n",
    "#         prob=LpProblem('DMU_'+str(o),LpMaximize)\n",
    "#         #　重み\n",
    "#         v=[LpVariable('v'+str(i),lowBound=0,\n",
    "#                       cat='Continuous') for i in range(m)]\n",
    "#         u=[LpVariable('u'+str(i),lowBound=0,\n",
    "#                       cat='Continuous') for i in range(s)]\n",
    "#         #　目的関数\n",
    "#         prob += lpDot(u,y.iloc[:,o])\n",
    "\n",
    "#         # 制約条件\n",
    "#         prob += lpDot(v,x.iloc[:,o])==1,'Normalize'+str(o)\n",
    "\n",
    "#         for j in range(n):\n",
    "#             prob += lpDot(u,y.iloc[:,j]) <= lpDot(v,x.iloc[:,j])\n",
    "\n",
    "#         prob.solve()\n",
    "#         vs=np.array([v[i].varValue for i in range(m)]) #v*\n",
    "#         us=np.array([v[i].varValue for i in range(m)]) #u*\n",
    "#         # 参照集合作成\n",
    "#         (eo,)=np.where(np.abs(np.dot(vs,x)-np.dot(us,y))<= MEPS)\n",
    "#         res.append([DMUs[o],value(prob.objective),\n",
    "#                     set(eo),tuple(vs),tuple(us)])\n",
    "#     return res"
   ]
  },
  {
   "cell_type": "code",
   "execution_count": null,
   "metadata": {},
   "outputs": [],
   "source": []
  },
  {
   "cell_type": "code",
   "execution_count": null,
   "metadata": {},
   "outputs": [],
   "source": []
  },
  {
   "cell_type": "code",
   "execution_count": 248,
   "metadata": {},
   "outputs": [],
   "source": []
  },
  {
   "cell_type": "code",
   "execution_count": null,
   "metadata": {},
   "outputs": [],
   "source": []
  }
 ],
 "metadata": {
  "kernelspec": {
   "display_name": "Python 3",
   "language": "python",
   "name": "python3"
  },
  "language_info": {
   "codemirror_mode": {
    "name": "ipython",
    "version": 3
   },
   "file_extension": ".py",
   "mimetype": "text/x-python",
   "name": "python",
   "nbconvert_exporter": "python",
   "pygments_lexer": "ipython3",
   "version": "3.8.1"
  }
 },
 "nbformat": 4,
 "nbformat_minor": 4
}
