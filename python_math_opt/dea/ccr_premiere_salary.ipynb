{
 "cells": [
  {
   "cell_type": "code",
   "execution_count": 124,
   "metadata": {},
   "outputs": [],
   "source": [
    "%matplotlib inline\n",
    "import numpy as np\n",
    "from pulp import *\n",
    "import pandas as pd\n",
    "import pprint\n",
    "import csv\n",
    "MEPS=1.03-6"
   ]
  },
  {
   "cell_type": "code",
   "execution_count": 125,
   "metadata": {},
   "outputs": [
    {
     "data": {
      "text/html": [
       "<div>\n",
       "<style scoped>\n",
       "    .dataframe tbody tr th:only-of-type {\n",
       "        vertical-align: middle;\n",
       "    }\n",
       "\n",
       "    .dataframe tbody tr th {\n",
       "        vertical-align: top;\n",
       "    }\n",
       "\n",
       "    .dataframe thead th {\n",
       "        text-align: right;\n",
       "    }\n",
       "</style>\n",
       "<table border=\"1\" class=\"dataframe\">\n",
       "  <thead>\n",
       "    <tr style=\"text-align: right;\">\n",
       "      <th></th>\n",
       "      <th>Name</th>\n",
       "    </tr>\n",
       "  </thead>\n",
       "  <tbody>\n",
       "    <tr>\n",
       "      <th>0</th>\n",
       "      <td>Kevin De Bruyne</td>\n",
       "    </tr>\n",
       "    <tr>\n",
       "      <th>1</th>\n",
       "      <td>Raheem Sterling</td>\n",
       "    </tr>\n",
       "    <tr>\n",
       "      <th>2</th>\n",
       "      <td>Paul Pogba</td>\n",
       "    </tr>\n",
       "    <tr>\n",
       "      <th>3</th>\n",
       "      <td>Mesut Ozil</td>\n",
       "    </tr>\n",
       "    <tr>\n",
       "      <th>4</th>\n",
       "      <td>Anthony Martial</td>\n",
       "    </tr>\n",
       "    <tr>\n",
       "      <th>5</th>\n",
       "      <td>Sergio Aguero</td>\n",
       "    </tr>\n",
       "    <tr>\n",
       "      <th>6</th>\n",
       "      <td>Mohamed Salah</td>\n",
       "    </tr>\n",
       "    <tr>\n",
       "      <th>7</th>\n",
       "      <td>Marcus Rashford</td>\n",
       "    </tr>\n",
       "    <tr>\n",
       "      <th>8</th>\n",
       "      <td>Harry Kane</td>\n",
       "    </tr>\n",
       "    <tr>\n",
       "      <th>9</th>\n",
       "      <td>Tanguy Ndombele</td>\n",
       "    </tr>\n",
       "  </tbody>\n",
       "</table>\n",
       "</div>"
      ],
      "text/plain": [
       "              Name\n",
       "0  Kevin De Bruyne\n",
       "1  Raheem Sterling\n",
       "2       Paul Pogba\n",
       "3       Mesut Ozil\n",
       "4  Anthony Martial\n",
       "5    Sergio Aguero\n",
       "6    Mohamed Salah\n",
       "7  Marcus Rashford\n",
       "8       Harry Kane\n",
       "9  Tanguy Ndombele"
      ]
     },
     "execution_count": 125,
     "metadata": {},
     "output_type": "execute_result"
    }
   ],
   "source": [
    "df=pd.read_csv('premiere_salary.csv',header=0,usecols=[0])\n",
    "df"
   ]
  },
  {
   "cell_type": "code",
   "execution_count": 126,
   "metadata": {},
   "outputs": [
    {
     "name": "stdout",
     "output_type": "stream",
     "text": [
      "[['Kevin De Bruyne']\n",
      " ['Raheem Sterling']\n",
      " ['Paul Pogba']\n",
      " ['Mesut Ozil']\n",
      " ['Anthony Martial']\n",
      " ['Sergio Aguero']\n",
      " ['Mohamed Salah']\n",
      " ['Marcus Rashford']\n",
      " ['Harry Kane']\n",
      " ['Tanguy Ndombele']]\n"
     ]
    }
   ],
   "source": [
    "DMUs=df.values\n",
    "print(DMUs)"
   ]
  },
  {
   "cell_type": "code",
   "execution_count": 127,
   "metadata": {},
   "outputs": [
    {
     "data": {
      "text/html": [
       "<div>\n",
       "<style scoped>\n",
       "    .dataframe tbody tr th:only-of-type {\n",
       "        vertical-align: middle;\n",
       "    }\n",
       "\n",
       "    .dataframe tbody tr th {\n",
       "        vertical-align: top;\n",
       "    }\n",
       "\n",
       "    .dataframe thead th {\n",
       "        text-align: right;\n",
       "    }\n",
       "</style>\n",
       "<table border=\"1\" class=\"dataframe\">\n",
       "  <thead>\n",
       "    <tr style=\"text-align: right;\">\n",
       "      <th></th>\n",
       "      <th>Appearance</th>\n",
       "      <th>Goals</th>\n",
       "      <th>Assists</th>\n",
       "      <th>Shots on Target</th>\n",
       "      <th>Passes per game</th>\n",
       "    </tr>\n",
       "    <tr>\n",
       "      <th>Name</th>\n",
       "      <th></th>\n",
       "      <th></th>\n",
       "      <th></th>\n",
       "      <th></th>\n",
       "      <th></th>\n",
       "    </tr>\n",
       "  </thead>\n",
       "  <tbody>\n",
       "    <tr>\n",
       "      <th>Kevin De Bruyne</th>\n",
       "      <td>33</td>\n",
       "      <td>11</td>\n",
       "      <td>19</td>\n",
       "      <td>28</td>\n",
       "      <td>54</td>\n",
       "    </tr>\n",
       "    <tr>\n",
       "      <th>Raheem Sterling</th>\n",
       "      <td>31</td>\n",
       "      <td>17</td>\n",
       "      <td>2</td>\n",
       "      <td>32</td>\n",
       "      <td>36</td>\n",
       "    </tr>\n",
       "    <tr>\n",
       "      <th>Paul Pogba</th>\n",
       "      <td>14</td>\n",
       "      <td>1</td>\n",
       "      <td>4</td>\n",
       "      <td>8</td>\n",
       "      <td>65</td>\n",
       "    </tr>\n",
       "    <tr>\n",
       "      <th>Mesut Ozil</th>\n",
       "      <td>18</td>\n",
       "      <td>1</td>\n",
       "      <td>3</td>\n",
       "      <td>3</td>\n",
       "      <td>47</td>\n",
       "    </tr>\n",
       "    <tr>\n",
       "      <th>Anthony Martial</th>\n",
       "      <td>30</td>\n",
       "      <td>17</td>\n",
       "      <td>6</td>\n",
       "      <td>38</td>\n",
       "      <td>23</td>\n",
       "    </tr>\n",
       "    <tr>\n",
       "      <th>Sergio Aguero</th>\n",
       "      <td>24</td>\n",
       "      <td>16</td>\n",
       "      <td>4</td>\n",
       "      <td>27</td>\n",
       "      <td>15</td>\n",
       "    </tr>\n",
       "    <tr>\n",
       "      <th>Mohamed Salah</th>\n",
       "      <td>32</td>\n",
       "      <td>19</td>\n",
       "      <td>10</td>\n",
       "      <td>58</td>\n",
       "      <td>29</td>\n",
       "    </tr>\n",
       "    <tr>\n",
       "      <th>Marcus Rashford</th>\n",
       "      <td>29</td>\n",
       "      <td>17</td>\n",
       "      <td>8</td>\n",
       "      <td>42</td>\n",
       "      <td>31</td>\n",
       "    </tr>\n",
       "    <tr>\n",
       "      <th>Harry Kane</th>\n",
       "      <td>28</td>\n",
       "      <td>17</td>\n",
       "      <td>3</td>\n",
       "      <td>36</td>\n",
       "      <td>20</td>\n",
       "    </tr>\n",
       "    <tr>\n",
       "      <th>Tanguy Ndombele</th>\n",
       "      <td>21</td>\n",
       "      <td>2</td>\n",
       "      <td>3</td>\n",
       "      <td>4</td>\n",
       "      <td>31</td>\n",
       "    </tr>\n",
       "  </tbody>\n",
       "</table>\n",
       "</div>"
      ],
      "text/plain": [
       "                 Appearance  Goals  Assists  Shots on Target  Passes per game\n",
       "Name                                                                         \n",
       "Kevin De Bruyne          33     11       19               28               54\n",
       "Raheem Sterling          31     17        2               32               36\n",
       "Paul Pogba               14      1        4                8               65\n",
       "Mesut Ozil               18      1        3                3               47\n",
       "Anthony Martial          30     17        6               38               23\n",
       "Sergio Aguero            24     16        4               27               15\n",
       "Mohamed Salah            32     19       10               58               29\n",
       "Marcus Rashford          29     17        8               42               31\n",
       "Harry Kane               28     17        3               36               20\n",
       "Tanguy Ndombele          21      2        3                4               31"
      ]
     },
     "execution_count": 127,
     "metadata": {},
     "output_type": "execute_result"
    }
   ],
   "source": [
    "dfy=pd.read_csv('premiere_salary.csv',header=0,index_col=0,usecols=[0,2,3,4,5,6])\n",
    "dfy"
   ]
  },
  {
   "cell_type": "code",
   "execution_count": 128,
   "metadata": {},
   "outputs": [],
   "source": [
    "y=dfy"
   ]
  },
  {
   "cell_type": "code",
   "execution_count": 129,
   "metadata": {},
   "outputs": [
    {
     "name": "stdout",
     "output_type": "stream",
     "text": [
      "                 Appearance  Goals  Assists  Shots on Target  Passes per game\n",
      "Name                                                                         \n",
      "Kevin De Bruyne          33     11       19               28               54\n",
      "Raheem Sterling          31     17        2               32               36\n",
      "Paul Pogba               14      1        4                8               65\n",
      "Mesut Ozil               18      1        3                3               47\n",
      "Anthony Martial          30     17        6               38               23\n",
      "Sergio Aguero            24     16        4               27               15\n",
      "Mohamed Salah            32     19       10               58               29\n",
      "Marcus Rashford          29     17        8               42               31\n",
      "Harry Kane               28     17        3               36               20\n",
      "Tanguy Ndombele          21      2        3                4               31\n"
     ]
    }
   ],
   "source": [
    "print(dfy)"
   ]
  },
  {
   "cell_type": "code",
   "execution_count": 130,
   "metadata": {},
   "outputs": [
    {
     "data": {
      "text/plain": [
       "(10, 5)"
      ]
     },
     "execution_count": 130,
     "metadata": {},
     "output_type": "execute_result"
    }
   ],
   "source": [
    "y.shape"
   ]
  },
  {
   "cell_type": "code",
   "execution_count": 131,
   "metadata": {},
   "outputs": [
    {
     "data": {
      "text/html": [
       "<div>\n",
       "<style scoped>\n",
       "    .dataframe tbody tr th:only-of-type {\n",
       "        vertical-align: middle;\n",
       "    }\n",
       "\n",
       "    .dataframe tbody tr th {\n",
       "        vertical-align: top;\n",
       "    }\n",
       "\n",
       "    .dataframe thead th {\n",
       "        text-align: right;\n",
       "    }\n",
       "</style>\n",
       "<table border=\"1\" class=\"dataframe\">\n",
       "  <thead>\n",
       "    <tr style=\"text-align: right;\">\n",
       "      <th></th>\n",
       "      <th>Salary (€)</th>\n",
       "    </tr>\n",
       "  </thead>\n",
       "  <tbody>\n",
       "    <tr>\n",
       "      <th>0</th>\n",
       "      <td>16683333</td>\n",
       "    </tr>\n",
       "    <tr>\n",
       "      <th>1</th>\n",
       "      <td>15600000</td>\n",
       "    </tr>\n",
       "    <tr>\n",
       "      <th>2</th>\n",
       "      <td>15080000</td>\n",
       "    </tr>\n",
       "    <tr>\n",
       "      <th>3</th>\n",
       "      <td>13975000</td>\n",
       "    </tr>\n",
       "    <tr>\n",
       "      <th>4</th>\n",
       "      <td>13000000</td>\n",
       "    </tr>\n",
       "    <tr>\n",
       "      <th>5</th>\n",
       "      <td>11967000</td>\n",
       "    </tr>\n",
       "    <tr>\n",
       "      <th>6</th>\n",
       "      <td>10400000</td>\n",
       "    </tr>\n",
       "    <tr>\n",
       "      <th>7</th>\n",
       "      <td>10400000</td>\n",
       "    </tr>\n",
       "    <tr>\n",
       "      <th>8</th>\n",
       "      <td>10400000</td>\n",
       "    </tr>\n",
       "    <tr>\n",
       "      <th>9</th>\n",
       "      <td>10400000</td>\n",
       "    </tr>\n",
       "  </tbody>\n",
       "</table>\n",
       "</div>"
      ],
      "text/plain": [
       "   Salary (€)\n",
       "0    16683333\n",
       "1    15600000\n",
       "2    15080000\n",
       "3    13975000\n",
       "4    13000000\n",
       "5    11967000\n",
       "6    10400000\n",
       "7    10400000\n",
       "8    10400000\n",
       "9    10400000"
      ]
     },
     "execution_count": 131,
     "metadata": {},
     "output_type": "execute_result"
    }
   ],
   "source": [
    "dfx=pd.read_csv('premiere_salary.csv',header=0,usecols=[1])\n",
    "dfx"
   ]
  },
  {
   "cell_type": "code",
   "execution_count": 132,
   "metadata": {},
   "outputs": [],
   "source": [
    "x=dfx"
   ]
  },
  {
   "cell_type": "code",
   "execution_count": 133,
   "metadata": {},
   "outputs": [
    {
     "data": {
      "text/plain": [
       "(10, 1)"
      ]
     },
     "execution_count": 133,
     "metadata": {},
     "output_type": "execute_result"
    }
   ],
   "source": [
    "x.shape"
   ]
  },
  {
   "cell_type": "code",
   "execution_count": 134,
   "metadata": {},
   "outputs": [],
   "source": [
    "n,m=y.shape\n",
    "n,s=x.shape"
   ]
  },
  {
   "cell_type": "code",
   "execution_count": 135,
   "metadata": {},
   "outputs": [],
   "source": [
    "res=[]"
   ]
  },
  {
   "cell_type": "code",
   "execution_count": 136,
   "metadata": {},
   "outputs": [
    {
     "name": "stdout",
     "output_type": "stream",
     "text": [
      "DMU_0 :  ['Kevin De Bruyne']\n",
      "vs:  [5.9940061e-08 None None None None]\n",
      "us:  [0.01948052]\n",
      " \n",
      "DMU_1 :  ['Raheem Sterling']\n",
      "vs:  [6.4102564e-08 None None None None]\n",
      "us:  [0.02083333]\n",
      " \n",
      "DMU_2 :  ['Paul Pogba']\n",
      "vs:  [6.6312997e-08 None None None None]\n",
      "us:  [0.02155172]\n",
      " \n",
      "DMU_3 :  ['Mesut Ozil']\n",
      "vs:  [7.1556351e-08 None None None None]\n",
      "us:  [0.02325581]\n",
      " \n",
      "DMU_4 :  ['Anthony Martial']\n",
      "vs:  [7.6923077e-08 None None None None]\n",
      "us:  [0.025]\n",
      " \n",
      "DMU_5 :  ['Sergio Aguero']\n",
      "vs:  [8.3563132e-08 None None None None]\n",
      "us:  [0.02715802]\n",
      " \n",
      "DMU_6 :  ['Mohamed Salah']\n",
      "vs:  [9.6153846e-08 None None None None]\n",
      "us:  [0.03125]\n",
      " \n",
      "DMU_7 :  ['Marcus Rashford']\n",
      "vs:  [9.6153846e-08 None None None None]\n",
      "us:  [0.03125]\n",
      " \n",
      "DMU_8 :  ['Harry Kane']\n",
      "vs:  [9.6153846e-08 None None None None]\n",
      "us:  [0.03125]\n",
      " \n",
      "DMU_9 :  ['Tanguy Ndombele']\n",
      "vs:  [9.6153846e-08 None None None None]\n",
      "us:  [0.03125]\n",
      " \n"
     ]
    }
   ],
   "source": [
    "for o in range(n):\n",
    "    prob=LpProblem('DMU_'+str(o),LpMaximize)\n",
    "    #　重み\n",
    "    v=[LpVariable('v'+str(i),lowBound=0,\n",
    "                  cat='Continuous') for i in range(m)]\n",
    "    u=[LpVariable('u'+str(i),lowBound=0,\n",
    "                  cat='Continuous') for i in range(s)]\n",
    "    #　目的関数\n",
    "    prob += lpDot(u,y.iloc[o,:])\n",
    "\n",
    "    # 制約条件\n",
    "    prob += lpDot(v,x.iloc[o,:])==1,'Normalize'+str(o)\n",
    "\n",
    "    for j in range(n):\n",
    "        prob += lpDot(u,y.iloc[j,:]) <= lpDot(v,x.iloc[j,:])\n",
    "\n",
    "    prob.solve()\n",
    "    vs=np.array([v[i].varValue for i in range(m)]) #v*\n",
    "    us=np.array([u[i].varValue for i in range(s)]) #u*\n",
    "    print('DMU_'+str(o),': ',DMUs[o])\n",
    "    print('vs: ',vs)\n",
    "    print('us: ',us)\n",
    "    print(' ')\n",
    "#     # 参照集合作成\n",
    "#     (eo,)=np.where(np.abs(np.dot(vs,x)-np.dot(us,y))<= MEPS)\n",
    "\n",
    "#     res.append([DMUs[o],value(prob.objective),\n",
    "#                 set(eo),tuple(vs),tuple(us)])\n",
    "\n",
    "    res.append([DMUs[o],value(prob.objective)])"
   ]
  },
  {
   "cell_type": "code",
   "execution_count": 137,
   "metadata": {},
   "outputs": [
    {
     "name": "stdout",
     "output_type": "stream",
     "text": [
      "[[array(['Kevin De Bruyne'], dtype=object), 0.64285716], [array(['Raheem Sterling'], dtype=object), 0.645833323], [array(['Paul Pogba'], dtype=object), 0.30172413600000003], [array(['Mesut Ozil'], dtype=object), 0.41860465199999997], [array(['Anthony Martial'], dtype=object), 0.75], [array(['Sergio Aguero'], dtype=object), 0.6517924319999999], [array(['Mohamed Salah'], dtype=object), 1.0], [array(['Marcus Rashford'], dtype=object), 0.90625], [array(['Harry Kane'], dtype=object), 0.875], [array(['Tanguy Ndombele'], dtype=object), 0.65625]]\n"
     ]
    }
   ],
   "source": [
    "print(res)"
   ]
  },
  {
   "cell_type": "code",
   "execution_count": 138,
   "metadata": {
    "scrolled": true
   },
   "outputs": [
    {
     "data": {
      "text/html": [
       "<div>\n",
       "<style scoped>\n",
       "    .dataframe tbody tr th:only-of-type {\n",
       "        vertical-align: middle;\n",
       "    }\n",
       "\n",
       "    .dataframe tbody tr th {\n",
       "        vertical-align: top;\n",
       "    }\n",
       "\n",
       "    .dataframe thead th {\n",
       "        text-align: right;\n",
       "    }\n",
       "</style>\n",
       "<table border=\"1\" class=\"dataframe\">\n",
       "  <thead>\n",
       "    <tr style=\"text-align: right;\">\n",
       "      <th></th>\n",
       "      <th>Name</th>\n",
       "      <th>Efficiency</th>\n",
       "    </tr>\n",
       "  </thead>\n",
       "  <tbody>\n",
       "    <tr>\n",
       "      <th>6</th>\n",
       "      <td>[Mohamed Salah]</td>\n",
       "      <td>1.000000</td>\n",
       "    </tr>\n",
       "    <tr>\n",
       "      <th>7</th>\n",
       "      <td>[Marcus Rashford]</td>\n",
       "      <td>0.906250</td>\n",
       "    </tr>\n",
       "    <tr>\n",
       "      <th>8</th>\n",
       "      <td>[Harry Kane]</td>\n",
       "      <td>0.875000</td>\n",
       "    </tr>\n",
       "    <tr>\n",
       "      <th>4</th>\n",
       "      <td>[Anthony Martial]</td>\n",
       "      <td>0.750000</td>\n",
       "    </tr>\n",
       "    <tr>\n",
       "      <th>9</th>\n",
       "      <td>[Tanguy Ndombele]</td>\n",
       "      <td>0.656250</td>\n",
       "    </tr>\n",
       "    <tr>\n",
       "      <th>5</th>\n",
       "      <td>[Sergio Aguero]</td>\n",
       "      <td>0.651792</td>\n",
       "    </tr>\n",
       "    <tr>\n",
       "      <th>1</th>\n",
       "      <td>[Raheem Sterling]</td>\n",
       "      <td>0.645833</td>\n",
       "    </tr>\n",
       "    <tr>\n",
       "      <th>0</th>\n",
       "      <td>[Kevin De Bruyne]</td>\n",
       "      <td>0.642857</td>\n",
       "    </tr>\n",
       "    <tr>\n",
       "      <th>3</th>\n",
       "      <td>[Mesut Ozil]</td>\n",
       "      <td>0.418605</td>\n",
       "    </tr>\n",
       "    <tr>\n",
       "      <th>2</th>\n",
       "      <td>[Paul Pogba]</td>\n",
       "      <td>0.301724</td>\n",
       "    </tr>\n",
       "  </tbody>\n",
       "</table>\n",
       "</div>"
      ],
      "text/plain": [
       "                Name  Efficiency\n",
       "6    [Mohamed Salah]    1.000000\n",
       "7  [Marcus Rashford]    0.906250\n",
       "8       [Harry Kane]    0.875000\n",
       "4  [Anthony Martial]    0.750000\n",
       "9  [Tanguy Ndombele]    0.656250\n",
       "5    [Sergio Aguero]    0.651792\n",
       "1  [Raheem Sterling]    0.645833\n",
       "0  [Kevin De Bruyne]    0.642857\n",
       "3       [Mesut Ozil]    0.418605\n",
       "2       [Paul Pogba]    0.301724"
      ]
     },
     "execution_count": 138,
     "metadata": {},
     "output_type": "execute_result"
    }
   ],
   "source": [
    "df_f=pd.DataFrame(res,columns=['Name','Efficiency'])\n",
    "df_s=df_f.sort_values('Efficiency',ascending=False)\n",
    "df_s"
   ]
  },
  {
   "cell_type": "code",
   "execution_count": 114,
   "metadata": {},
   "outputs": [],
   "source": [
    "# def DEA_CCR(x,y,DMUs):\n",
    "#     n,m=x.shape\n",
    "#     n,s=y.shape\n",
    "    \n",
    "#     res=[]\n",
    "    \n",
    "#     for o in range(n):\n",
    "#         prob=LpProblem('DMU_'+str(o),LpMaximize)\n",
    "#         #　重み\n",
    "#         v=[LpVariable('v'+str(i),lowBound=0,\n",
    "#                       cat='Continuous') for i in range(m)]\n",
    "#         u=[LpVariable('u'+str(i),lowBound=0,\n",
    "#                       cat='Continuous') for i in range(s)]\n",
    "#         #　目的関数\n",
    "#         prob += lpDot(u,y.iloc[:,o])\n",
    "\n",
    "#         # 制約条件\n",
    "#         prob += lpDot(v,x.iloc[:,o])==1,'Normalize'+str(o)\n",
    "\n",
    "#         for j in range(n):\n",
    "#             prob += lpDot(u,y.iloc[:,j]) <= lpDot(v,x.iloc[:,j])\n",
    "\n",
    "#         prob.solve()\n",
    "#         vs=np.array([v[i].varValue for i in range(m)]) #v*\n",
    "#         us=np.array([v[i].varValue for i in range(m)]) #u*\n",
    "#         # 参照集合作成\n",
    "#         (eo,)=np.where(np.abs(np.dot(vs,x)-np.dot(us,y))<= MEPS)\n",
    "#         res.append([DMUs[o],value(prob.objective),\n",
    "#                     set(eo),tuple(vs),tuple(us)])\n",
    "#     return res"
   ]
  },
  {
   "cell_type": "code",
   "execution_count": 30,
   "metadata": {},
   "outputs": [
    {
     "ename": "TypeError",
     "evalue": "unsupported operand type(s) for ^: 'float' and 'float'",
     "output_type": "error",
     "traceback": [
      "\u001b[0;31m---------------------------------------------------------------------------\u001b[0m",
      "\u001b[0;31mTypeError\u001b[0m                                 Traceback (most recent call last)",
      "\u001b[0;32m<ipython-input-30-6034c292b482>\u001b[0m in \u001b[0;36m<module>\u001b[0;34m\u001b[0m\n\u001b[0;32m----> 1\u001b[0;31m \u001b[0;36m16683333.0\u001b[0m\u001b[0;34m^\u001b[0m\u001b[0;36m0.8\u001b[0m\u001b[0;34m\u001b[0m\u001b[0;34m\u001b[0m\u001b[0m\n\u001b[0m",
      "\u001b[0;31mTypeError\u001b[0m: unsupported operand type(s) for ^: 'float' and 'float'"
     ]
    }
   ],
   "source": []
  },
  {
   "cell_type": "code",
   "execution_count": null,
   "metadata": {},
   "outputs": [],
   "source": []
  },
  {
   "cell_type": "code",
   "execution_count": 248,
   "metadata": {},
   "outputs": [],
   "source": []
  },
  {
   "cell_type": "code",
   "execution_count": null,
   "metadata": {},
   "outputs": [],
   "source": []
  }
 ],
 "metadata": {
  "kernelspec": {
   "display_name": "Python 3",
   "language": "python",
   "name": "python3"
  },
  "language_info": {
   "codemirror_mode": {
    "name": "ipython",
    "version": 3
   },
   "file_extension": ".py",
   "mimetype": "text/x-python",
   "name": "python",
   "nbconvert_exporter": "python",
   "pygments_lexer": "ipython3",
   "version": "3.8.1"
  }
 },
 "nbformat": 4,
 "nbformat_minor": 4
}
