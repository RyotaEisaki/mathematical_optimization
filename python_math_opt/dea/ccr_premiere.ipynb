{
 "cells": [
  {
   "cell_type": "code",
   "execution_count": 35,
   "metadata": {},
   "outputs": [],
   "source": [
    "%matplotlib inline\n",
    "import numpy as np\n",
    "from pulp import *\n",
    "import pandas as pd\n",
    "import pprint\n",
    "import csv\n",
    "MEPS=1.03-6"
   ]
  },
  {
   "cell_type": "code",
   "execution_count": 36,
   "metadata": {},
   "outputs": [
    {
     "data": {
      "text/html": [
       "<div>\n",
       "<style scoped>\n",
       "    .dataframe tbody tr th:only-of-type {\n",
       "        vertical-align: middle;\n",
       "    }\n",
       "\n",
       "    .dataframe tbody tr th {\n",
       "        vertical-align: top;\n",
       "    }\n",
       "\n",
       "    .dataframe thead th {\n",
       "        text-align: right;\n",
       "    }\n",
       "</style>\n",
       "<table border=\"1\" class=\"dataframe\">\n",
       "  <thead>\n",
       "    <tr style=\"text-align: right;\">\n",
       "      <th></th>\n",
       "      <th>Club</th>\n",
       "    </tr>\n",
       "  </thead>\n",
       "  <tbody>\n",
       "    <tr>\n",
       "      <th>0</th>\n",
       "      <td>Liverpool</td>\n",
       "    </tr>\n",
       "    <tr>\n",
       "      <th>1</th>\n",
       "      <td>Manchester City</td>\n",
       "    </tr>\n",
       "    <tr>\n",
       "      <th>2</th>\n",
       "      <td>Chelsea</td>\n",
       "    </tr>\n",
       "    <tr>\n",
       "      <th>3</th>\n",
       "      <td>Leicester City</td>\n",
       "    </tr>\n",
       "    <tr>\n",
       "      <th>4</th>\n",
       "      <td>Manchester United</td>\n",
       "    </tr>\n",
       "    <tr>\n",
       "      <th>5</th>\n",
       "      <td>Wolverhampton Wanderers</td>\n",
       "    </tr>\n",
       "    <tr>\n",
       "      <th>6</th>\n",
       "      <td>Tottenham Hotspur</td>\n",
       "    </tr>\n",
       "    <tr>\n",
       "      <th>7</th>\n",
       "      <td>Sheffield United</td>\n",
       "    </tr>\n",
       "    <tr>\n",
       "      <th>8</th>\n",
       "      <td>Burnley</td>\n",
       "    </tr>\n",
       "    <tr>\n",
       "      <th>9</th>\n",
       "      <td>Arsenal</td>\n",
       "    </tr>\n",
       "  </tbody>\n",
       "</table>\n",
       "</div>"
      ],
      "text/plain": [
       "                      Club\n",
       "0                Liverpool\n",
       "1          Manchester City\n",
       "2                  Chelsea\n",
       "3           Leicester City\n",
       "4        Manchester United\n",
       "5  Wolverhampton Wanderers\n",
       "6        Tottenham Hotspur\n",
       "7         Sheffield United\n",
       "8                  Burnley\n",
       "9                  Arsenal"
      ]
     },
     "execution_count": 36,
     "metadata": {},
     "output_type": "execute_result"
    }
   ],
   "source": [
    "df=pd.read_csv('premiere.csv',header=0,usecols=[0])\n",
    "df"
   ]
  },
  {
   "cell_type": "code",
   "execution_count": 37,
   "metadata": {},
   "outputs": [
    {
     "name": "stdout",
     "output_type": "stream",
     "text": [
      "[['Liverpool']\n",
      " ['Manchester City']\n",
      " ['Chelsea']\n",
      " ['Leicester City']\n",
      " ['Manchester United']\n",
      " ['Wolverhampton Wanderers']\n",
      " ['Tottenham Hotspur']\n",
      " ['Sheffield United']\n",
      " ['Burnley']\n",
      " ['Arsenal']]\n"
     ]
    }
   ],
   "source": [
    "DMUs=df.values\n",
    "print(DMUs)"
   ]
  },
  {
   "cell_type": "code",
   "execution_count": 38,
   "metadata": {},
   "outputs": [
    {
     "data": {
      "text/html": [
       "<div>\n",
       "<style scoped>\n",
       "    .dataframe tbody tr th:only-of-type {\n",
       "        vertical-align: middle;\n",
       "    }\n",
       "\n",
       "    .dataframe tbody tr th {\n",
       "        vertical-align: top;\n",
       "    }\n",
       "\n",
       "    .dataframe thead th {\n",
       "        text-align: right;\n",
       "    }\n",
       "</style>\n",
       "<table border=\"1\" class=\"dataframe\">\n",
       "  <thead>\n",
       "    <tr style=\"text-align: right;\">\n",
       "      <th></th>\n",
       "      <th>Expenditure(€M)</th>\n",
       "      <th>Seasons in Premiere League</th>\n",
       "      <th>Club Rating</th>\n",
       "    </tr>\n",
       "    <tr>\n",
       "      <th>Club</th>\n",
       "      <th></th>\n",
       "      <th></th>\n",
       "      <th></th>\n",
       "    </tr>\n",
       "  </thead>\n",
       "  <tbody>\n",
       "    <tr>\n",
       "      <th>Liverpool</th>\n",
       "      <td>10.40</td>\n",
       "      <td>28</td>\n",
       "      <td>85</td>\n",
       "    </tr>\n",
       "    <tr>\n",
       "      <th>Manchester City</th>\n",
       "      <td>166.82</td>\n",
       "      <td>23</td>\n",
       "      <td>85</td>\n",
       "    </tr>\n",
       "    <tr>\n",
       "      <th>Chelsea</th>\n",
       "      <td>45.00</td>\n",
       "      <td>28</td>\n",
       "      <td>81</td>\n",
       "    </tr>\n",
       "    <tr>\n",
       "      <th>Leicester City</th>\n",
       "      <td>104.30</td>\n",
       "      <td>14</td>\n",
       "      <td>79</td>\n",
       "    </tr>\n",
       "    <tr>\n",
       "      <th>Manchester United</th>\n",
       "      <td>214.00</td>\n",
       "      <td>28</td>\n",
       "      <td>81</td>\n",
       "    </tr>\n",
       "    <tr>\n",
       "      <th>Wolverhampton Wanderers</th>\n",
       "      <td>121.80</td>\n",
       "      <td>6</td>\n",
       "      <td>78</td>\n",
       "    </tr>\n",
       "    <tr>\n",
       "      <th>Tottenham Hotspur</th>\n",
       "      <td>148.50</td>\n",
       "      <td>28</td>\n",
       "      <td>82</td>\n",
       "    </tr>\n",
       "    <tr>\n",
       "      <th>Sheffield United</th>\n",
       "      <td>69.00</td>\n",
       "      <td>4</td>\n",
       "      <td>75</td>\n",
       "    </tr>\n",
       "    <tr>\n",
       "      <th>Burnley</th>\n",
       "      <td>19.40</td>\n",
       "      <td>6</td>\n",
       "      <td>76</td>\n",
       "    </tr>\n",
       "    <tr>\n",
       "      <th>Arsenal</th>\n",
       "      <td>160.40</td>\n",
       "      <td>28</td>\n",
       "      <td>80</td>\n",
       "    </tr>\n",
       "  </tbody>\n",
       "</table>\n",
       "</div>"
      ],
      "text/plain": [
       "                         Expenditure(€M)  Seasons in Premiere League  \\\n",
       "Club                                                                   \n",
       "Liverpool                          10.40                          28   \n",
       "Manchester City                   166.82                          23   \n",
       "Chelsea                            45.00                          28   \n",
       "Leicester City                    104.30                          14   \n",
       "Manchester United                 214.00                          28   \n",
       "Wolverhampton Wanderers           121.80                           6   \n",
       "Tottenham Hotspur                 148.50                          28   \n",
       "Sheffield United                   69.00                           4   \n",
       "Burnley                            19.40                           6   \n",
       "Arsenal                           160.40                          28   \n",
       "\n",
       "                         Club Rating  \n",
       "Club                                  \n",
       "Liverpool                         85  \n",
       "Manchester City                   85  \n",
       "Chelsea                           81  \n",
       "Leicester City                    79  \n",
       "Manchester United                 81  \n",
       "Wolverhampton Wanderers           78  \n",
       "Tottenham Hotspur                 82  \n",
       "Sheffield United                  75  \n",
       "Burnley                           76  \n",
       "Arsenal                           80  "
      ]
     },
     "execution_count": 38,
     "metadata": {},
     "output_type": "execute_result"
    }
   ],
   "source": [
    "dfx=pd.read_csv('premiere.csv',header=0,index_col=0,usecols=[0,3,4,5])\n",
    "dfx"
   ]
  },
  {
   "cell_type": "code",
   "execution_count": 39,
   "metadata": {},
   "outputs": [],
   "source": [
    "x=dfx"
   ]
  },
  {
   "cell_type": "code",
   "execution_count": 40,
   "metadata": {},
   "outputs": [
    {
     "name": "stdout",
     "output_type": "stream",
     "text": [
      "                         Expenditure(€M)  Seasons in Premiere League  \\\n",
      "Club                                                                   \n",
      "Liverpool                          10.40                          28   \n",
      "Manchester City                   166.82                          23   \n",
      "Chelsea                            45.00                          28   \n",
      "Leicester City                    104.30                          14   \n",
      "Manchester United                 214.00                          28   \n",
      "Wolverhampton Wanderers           121.80                           6   \n",
      "Tottenham Hotspur                 148.50                          28   \n",
      "Sheffield United                   69.00                           4   \n",
      "Burnley                            19.40                           6   \n",
      "Arsenal                           160.40                          28   \n",
      "\n",
      "                         Club Rating  \n",
      "Club                                  \n",
      "Liverpool                         85  \n",
      "Manchester City                   85  \n",
      "Chelsea                           81  \n",
      "Leicester City                    79  \n",
      "Manchester United                 81  \n",
      "Wolverhampton Wanderers           78  \n",
      "Tottenham Hotspur                 82  \n",
      "Sheffield United                  75  \n",
      "Burnley                           76  \n",
      "Arsenal                           80  \n"
     ]
    }
   ],
   "source": [
    "print(dfx)"
   ]
  },
  {
   "cell_type": "code",
   "execution_count": 41,
   "metadata": {},
   "outputs": [
    {
     "data": {
      "text/plain": [
       "(10, 3)"
      ]
     },
     "execution_count": 41,
     "metadata": {},
     "output_type": "execute_result"
    }
   ],
   "source": [
    "x.shape"
   ]
  },
  {
   "cell_type": "code",
   "execution_count": 42,
   "metadata": {},
   "outputs": [
    {
     "data": {
      "text/html": [
       "<div>\n",
       "<style scoped>\n",
       "    .dataframe tbody tr th:only-of-type {\n",
       "        vertical-align: middle;\n",
       "    }\n",
       "\n",
       "    .dataframe tbody tr th {\n",
       "        vertical-align: top;\n",
       "    }\n",
       "\n",
       "    .dataframe thead th {\n",
       "        text-align: right;\n",
       "    }\n",
       "</style>\n",
       "<table border=\"1\" class=\"dataframe\">\n",
       "  <thead>\n",
       "    <tr style=\"text-align: right;\">\n",
       "      <th></th>\n",
       "      <th>Points</th>\n",
       "      <th>Goal Difference</th>\n",
       "    </tr>\n",
       "  </thead>\n",
       "  <tbody>\n",
       "    <tr>\n",
       "      <th>0</th>\n",
       "      <td>93</td>\n",
       "      <td>48</td>\n",
       "    </tr>\n",
       "    <tr>\n",
       "      <th>1</th>\n",
       "      <td>75</td>\n",
       "      <td>58</td>\n",
       "    </tr>\n",
       "    <tr>\n",
       "      <th>2</th>\n",
       "      <td>63</td>\n",
       "      <td>15</td>\n",
       "    </tr>\n",
       "    <tr>\n",
       "      <th>3</th>\n",
       "      <td>62</td>\n",
       "      <td>28</td>\n",
       "    </tr>\n",
       "    <tr>\n",
       "      <th>4</th>\n",
       "      <td>62</td>\n",
       "      <td>28</td>\n",
       "    </tr>\n",
       "    <tr>\n",
       "      <th>5</th>\n",
       "      <td>59</td>\n",
       "      <td>13</td>\n",
       "    </tr>\n",
       "    <tr>\n",
       "      <th>6</th>\n",
       "      <td>58</td>\n",
       "      <td>14</td>\n",
       "    </tr>\n",
       "    <tr>\n",
       "      <th>7</th>\n",
       "      <td>54</td>\n",
       "      <td>2</td>\n",
       "    </tr>\n",
       "    <tr>\n",
       "      <th>8</th>\n",
       "      <td>54</td>\n",
       "      <td>0</td>\n",
       "    </tr>\n",
       "    <tr>\n",
       "      <th>9</th>\n",
       "      <td>53</td>\n",
       "      <td>8</td>\n",
       "    </tr>\n",
       "  </tbody>\n",
       "</table>\n",
       "</div>"
      ],
      "text/plain": [
       "   Points  Goal Difference\n",
       "0      93               48\n",
       "1      75               58\n",
       "2      63               15\n",
       "3      62               28\n",
       "4      62               28\n",
       "5      59               13\n",
       "6      58               14\n",
       "7      54                2\n",
       "8      54                0\n",
       "9      53                8"
      ]
     },
     "execution_count": 42,
     "metadata": {},
     "output_type": "execute_result"
    }
   ],
   "source": [
    "dfy=pd.read_csv('premiere.csv',header=0,usecols=[1,2])\n",
    "dfy"
   ]
  },
  {
   "cell_type": "code",
   "execution_count": 43,
   "metadata": {},
   "outputs": [],
   "source": [
    "y=dfy"
   ]
  },
  {
   "cell_type": "code",
   "execution_count": 44,
   "metadata": {},
   "outputs": [
    {
     "data": {
      "text/plain": [
       "(10, 2)"
      ]
     },
     "execution_count": 44,
     "metadata": {},
     "output_type": "execute_result"
    }
   ],
   "source": [
    "y.shape"
   ]
  },
  {
   "cell_type": "code",
   "execution_count": 45,
   "metadata": {},
   "outputs": [],
   "source": [
    "n,m=x.shape\n",
    "n,s=y.shape"
   ]
  },
  {
   "cell_type": "code",
   "execution_count": 46,
   "metadata": {},
   "outputs": [],
   "source": [
    "res=[]"
   ]
  },
  {
   "cell_type": "code",
   "execution_count": 47,
   "metadata": {},
   "outputs": [
    {
     "name": "stdout",
     "output_type": "stream",
     "text": [
      "DMU_0 :  ['Liverpool']\n",
      "vs:  [0.         0.         0.01176471]\n",
      "us:  [0.01075269 0.        ]\n",
      " \n",
      "DMU_1 :  ['Manchester City']\n",
      "vs:  [0.00202302 0.02880525 0.        ]\n",
      "us:  [0.         0.01724138]\n",
      " \n",
      "DMU_2 :  ['Chelsea']\n",
      "vs:  [0.         0.         0.01234568]\n",
      "us:  [0.01128368 0.        ]\n",
      " \n",
      "DMU_3 :  ['Leicester City']\n",
      "vs:  [0.00236831 0.05378466 0.        ]\n",
      "us:  [0.00581532 0.02062035]\n",
      " \n",
      "DMU_4 :  ['Manchester United']\n",
      "vs:  [0.         0.         0.01234568]\n",
      "us:  [0.01128368 0.        ]\n",
      " \n",
      "DMU_5 :  ['Wolverhampton Wanderers']\n",
      "vs:  [0.00010612 0.02327463 0.01086445]\n",
      "us:  [0.01694915 0.        ]\n",
      " \n",
      "DMU_6 :  ['Tottenham Hotspur']\n",
      "vs:  [0.         0.         0.01219512]\n",
      "us:  [0.01114608 0.        ]\n",
      " \n",
      "DMU_7 :  ['Sheffield United']\n",
      "vs:  [0.00011595 0.02542969 0.01187041]\n",
      "us:  [0.01851852 0.        ]\n",
      " \n",
      "DMU_8 :  ['Burnley']\n",
      "vs:  [0.00138509 0.02909649 0.01050724]\n",
      "us:  [0.01851852 0.        ]\n",
      " \n",
      "DMU_9 :  ['Arsenal']\n",
      "vs:  [0.     0.     0.0125]\n",
      "us:  [0.01142473 0.        ]\n",
      " \n"
     ]
    }
   ],
   "source": [
    "for o in range(n):\n",
    "    prob=LpProblem('DMU_'+str(o),LpMaximize)\n",
    "    #　重み\n",
    "    v=[LpVariable('v'+str(i),lowBound=0,\n",
    "                  cat='Continuous') for i in range(m)]\n",
    "    u=[LpVariable('u'+str(i),lowBound=0,\n",
    "                  cat='Continuous') for i in range(s)]\n",
    "    #　目的関数\n",
    "    prob += lpDot(u,y.iloc[o,:])\n",
    "\n",
    "    # 制約条件\n",
    "    prob += lpDot(v,x.iloc[o,:])==1,'Normalize'+str(o)\n",
    "\n",
    "    for j in range(n):\n",
    "        prob += lpDot(u,y.iloc[j,:]) <= lpDot(v,x.iloc[j,:])\n",
    "\n",
    "    prob.solve()\n",
    "    vs=np.array([v[i].varValue for i in range(m)]) #v*\n",
    "    us=np.array([u[i].varValue for i in range(s)]) #u*\n",
    "    print('DMU_'+str(o),': ',DMUs[o])\n",
    "    print('vs: ',vs)\n",
    "    print('us: ',us)\n",
    "    print(' ')\n",
    "#     # 参照集合作成\n",
    "#     (eo,)=np.where(np.abs(np.dot(vs,x)-np.dot(us,y))<= MEPS)\n",
    "\n",
    "#     res.append([DMUs[o],value(prob.objective),\n",
    "#                 set(eo),tuple(vs),tuple(us)])\n",
    "\n",
    "    res.append([DMUs[o],value(prob.objective)])"
   ]
  },
  {
   "cell_type": "code",
   "execution_count": 48,
   "metadata": {},
   "outputs": [
    {
     "name": "stdout",
     "output_type": "stream",
     "text": [
      "[[array(['Liverpool'], dtype=object), 0.999999984], [array(['Manchester City'], dtype=object), 0.9999999820000001], [array(['Chelsea'], dtype=object), 0.710872155], [array(['Leicester City'], dtype=object), 0.9379192644000001], [array(['Manchester United'], dtype=object), 0.69958847], [array(['Wolverhampton Wanderers'], dtype=object), 1.000000027], [array(['Tottenham Hotspur'], dtype=object), 0.646472582], [array(['Sheffield United'], dtype=object), 1.000000026], [array(['Burnley'], dtype=object), 1.000000026], [array(['Arsenal'], dtype=object), 0.6055107430000001]]\n"
     ]
    }
   ],
   "source": [
    "print(res)"
   ]
  },
  {
   "cell_type": "code",
   "execution_count": 49,
   "metadata": {},
   "outputs": [
    {
     "data": {
      "text/html": [
       "<div>\n",
       "<style scoped>\n",
       "    .dataframe tbody tr th:only-of-type {\n",
       "        vertical-align: middle;\n",
       "    }\n",
       "\n",
       "    .dataframe tbody tr th {\n",
       "        vertical-align: top;\n",
       "    }\n",
       "\n",
       "    .dataframe thead th {\n",
       "        text-align: right;\n",
       "    }\n",
       "</style>\n",
       "<table border=\"1\" class=\"dataframe\">\n",
       "  <thead>\n",
       "    <tr style=\"text-align: right;\">\n",
       "      <th></th>\n",
       "      <th>国名</th>\n",
       "      <th>効率値</th>\n",
       "    </tr>\n",
       "  </thead>\n",
       "  <tbody>\n",
       "    <tr>\n",
       "      <th>5</th>\n",
       "      <td>[Wolverhampton Wanderers]</td>\n",
       "      <td>1.000000</td>\n",
       "    </tr>\n",
       "    <tr>\n",
       "      <th>7</th>\n",
       "      <td>[Sheffield United]</td>\n",
       "      <td>1.000000</td>\n",
       "    </tr>\n",
       "    <tr>\n",
       "      <th>8</th>\n",
       "      <td>[Burnley]</td>\n",
       "      <td>1.000000</td>\n",
       "    </tr>\n",
       "    <tr>\n",
       "      <th>0</th>\n",
       "      <td>[Liverpool]</td>\n",
       "      <td>1.000000</td>\n",
       "    </tr>\n",
       "    <tr>\n",
       "      <th>1</th>\n",
       "      <td>[Manchester City]</td>\n",
       "      <td>1.000000</td>\n",
       "    </tr>\n",
       "    <tr>\n",
       "      <th>3</th>\n",
       "      <td>[Leicester City]</td>\n",
       "      <td>0.937919</td>\n",
       "    </tr>\n",
       "    <tr>\n",
       "      <th>2</th>\n",
       "      <td>[Chelsea]</td>\n",
       "      <td>0.710872</td>\n",
       "    </tr>\n",
       "    <tr>\n",
       "      <th>4</th>\n",
       "      <td>[Manchester United]</td>\n",
       "      <td>0.699588</td>\n",
       "    </tr>\n",
       "    <tr>\n",
       "      <th>6</th>\n",
       "      <td>[Tottenham Hotspur]</td>\n",
       "      <td>0.646473</td>\n",
       "    </tr>\n",
       "    <tr>\n",
       "      <th>9</th>\n",
       "      <td>[Arsenal]</td>\n",
       "      <td>0.605511</td>\n",
       "    </tr>\n",
       "  </tbody>\n",
       "</table>\n",
       "</div>"
      ],
      "text/plain": [
       "                          国名       効率値\n",
       "5  [Wolverhampton Wanderers]  1.000000\n",
       "7         [Sheffield United]  1.000000\n",
       "8                  [Burnley]  1.000000\n",
       "0                [Liverpool]  1.000000\n",
       "1          [Manchester City]  1.000000\n",
       "3           [Leicester City]  0.937919\n",
       "2                  [Chelsea]  0.710872\n",
       "4        [Manchester United]  0.699588\n",
       "6        [Tottenham Hotspur]  0.646473\n",
       "9                  [Arsenal]  0.605511"
      ]
     },
     "execution_count": 49,
     "metadata": {},
     "output_type": "execute_result"
    }
   ],
   "source": [
    "df_f=pd.DataFrame(res,columns=['国名','効率値'])\n",
    "df_s=df_f.sort_values('効率値',ascending=False)\n",
    "df_s"
   ]
  },
  {
   "cell_type": "code",
   "execution_count": 71,
   "metadata": {},
   "outputs": [],
   "source": [
    "# def DEA_CCR(x,y,DMUs):\n",
    "#     n,m=x.shape\n",
    "#     n,s=y.shape\n",
    "    \n",
    "#     res=[]\n",
    "    \n",
    "#     for o in range(n):\n",
    "#         prob=LpProblem('DMU_'+str(o),LpMaximize)\n",
    "#         #　重み\n",
    "#         v=[LpVariable('v'+str(i),lowBound=0,\n",
    "#                       cat='Continuous') for i in range(m)]\n",
    "#         u=[LpVariable('u'+str(i),lowBound=0,\n",
    "#                       cat='Continuous') for i in range(s)]\n",
    "#         #　目的関数\n",
    "#         prob += lpDot(u,y.iloc[:,o])\n",
    "\n",
    "#         # 制約条件\n",
    "#         prob += lpDot(v,x.iloc[:,o])==1,'Normalize'+str(o)\n",
    "\n",
    "#         for j in range(n):\n",
    "#             prob += lpDot(u,y.iloc[:,j]) <= lpDot(v,x.iloc[:,j])\n",
    "\n",
    "#         prob.solve()\n",
    "#         vs=np.array([v[i].varValue for i in range(m)]) #v*\n",
    "#         us=np.array([v[i].varValue for i in range(m)]) #u*\n",
    "#         # 参照集合作成\n",
    "#         (eo,)=np.where(np.abs(np.dot(vs,x)-np.dot(us,y))<= MEPS)\n",
    "#         res.append([DMUs[o],value(prob.objective),\n",
    "#                     set(eo),tuple(vs),tuple(us)])\n",
    "#     return res"
   ]
  },
  {
   "cell_type": "code",
   "execution_count": null,
   "metadata": {},
   "outputs": [],
   "source": []
  },
  {
   "cell_type": "code",
   "execution_count": null,
   "metadata": {},
   "outputs": [],
   "source": []
  },
  {
   "cell_type": "code",
   "execution_count": 248,
   "metadata": {},
   "outputs": [],
   "source": []
  },
  {
   "cell_type": "code",
   "execution_count": null,
   "metadata": {},
   "outputs": [],
   "source": []
  }
 ],
 "metadata": {
  "kernelspec": {
   "display_name": "Python 3",
   "language": "python",
   "name": "python3"
  },
  "language_info": {
   "codemirror_mode": {
    "name": "ipython",
    "version": 3
   },
   "file_extension": ".py",
   "mimetype": "text/x-python",
   "name": "python",
   "nbconvert_exporter": "python",
   "pygments_lexer": "ipython3",
   "version": "3.8.1"
  }
 },
 "nbformat": 4,
 "nbformat_minor": 4
}
