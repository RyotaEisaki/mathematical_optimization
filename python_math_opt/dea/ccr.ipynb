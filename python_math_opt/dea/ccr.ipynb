{
 "cells": [
  {
   "cell_type": "code",
   "execution_count": 61,
   "metadata": {},
   "outputs": [],
   "source": [
    "%matplotlib inline\n",
    "import numpy as np\n",
    "from pulp import *\n",
    "import pandas as pd\n",
    "import pprint\n",
    "import csv\n",
    "MEPS=1.03-6"
   ]
  },
  {
   "cell_type": "code",
   "execution_count": 62,
   "metadata": {},
   "outputs": [
    {
     "data": {
      "text/html": [
       "<div>\n",
       "<style scoped>\n",
       "    .dataframe tbody tr th:only-of-type {\n",
       "        vertical-align: middle;\n",
       "    }\n",
       "\n",
       "    .dataframe tbody tr th {\n",
       "        vertical-align: top;\n",
       "    }\n",
       "\n",
       "    .dataframe thead th {\n",
       "        text-align: right;\n",
       "    }\n",
       "</style>\n",
       "<table border=\"1\" class=\"dataframe\">\n",
       "  <thead>\n",
       "    <tr style=\"text-align: right;\">\n",
       "      <th></th>\n",
       "      <th>国名</th>\n",
       "    </tr>\n",
       "  </thead>\n",
       "  <tbody>\n",
       "    <tr>\n",
       "      <th>0</th>\n",
       "      <td>アメリカ</td>\n",
       "    </tr>\n",
       "    <tr>\n",
       "      <th>1</th>\n",
       "      <td>中国</td>\n",
       "    </tr>\n",
       "    <tr>\n",
       "      <th>2</th>\n",
       "      <td>イギリス</td>\n",
       "    </tr>\n",
       "    <tr>\n",
       "      <th>3</th>\n",
       "      <td>ロシア</td>\n",
       "    </tr>\n",
       "    <tr>\n",
       "      <th>4</th>\n",
       "      <td>ドイツ</td>\n",
       "    </tr>\n",
       "    <tr>\n",
       "      <th>5</th>\n",
       "      <td>カナダ</td>\n",
       "    </tr>\n",
       "  </tbody>\n",
       "</table>\n",
       "</div>"
      ],
      "text/plain": [
       "     国名\n",
       "0  アメリカ\n",
       "1    中国\n",
       "2  イギリス\n",
       "3   ロシア\n",
       "4   ドイツ\n",
       "5   カナダ"
      ]
     },
     "execution_count": 62,
     "metadata": {},
     "output_type": "execute_result"
    }
   ],
   "source": [
    "df=pd.read_csv('data.csv',header=0,usecols=[0])\n",
    "df"
   ]
  },
  {
   "cell_type": "code",
   "execution_count": 63,
   "metadata": {},
   "outputs": [
    {
     "name": "stdout",
     "output_type": "stream",
     "text": [
      "[['アメリカ']\n",
      " ['中国']\n",
      " ['イギリス']\n",
      " ['ロシア']\n",
      " ['ドイツ']\n",
      " ['カナダ']]\n"
     ]
    }
   ],
   "source": [
    "DMUs=df.values\n",
    "print(DMUs)"
   ]
  },
  {
   "cell_type": "code",
   "execution_count": 64,
   "metadata": {},
   "outputs": [
    {
     "data": {
      "text/html": [
       "<div>\n",
       "<style scoped>\n",
       "    .dataframe tbody tr th:only-of-type {\n",
       "        vertical-align: middle;\n",
       "    }\n",
       "\n",
       "    .dataframe tbody tr th {\n",
       "        vertical-align: top;\n",
       "    }\n",
       "\n",
       "    .dataframe thead th {\n",
       "        text-align: right;\n",
       "    }\n",
       "</style>\n",
       "<table border=\"1\" class=\"dataframe\">\n",
       "  <thead>\n",
       "    <tr style=\"text-align: right;\">\n",
       "      <th></th>\n",
       "      <th>人口(百万人)</th>\n",
       "      <th>GDP</th>\n",
       "    </tr>\n",
       "    <tr>\n",
       "      <th>国名</th>\n",
       "      <th></th>\n",
       "      <th></th>\n",
       "    </tr>\n",
       "  </thead>\n",
       "  <tbody>\n",
       "    <tr>\n",
       "      <th>アメリカ</th>\n",
       "      <td>321.774</td>\n",
       "      <td>14682.739</td>\n",
       "    </tr>\n",
       "    <tr>\n",
       "      <th>中国</th>\n",
       "      <td>1376.049</td>\n",
       "      <td>5320.232</td>\n",
       "    </tr>\n",
       "    <tr>\n",
       "      <th>イギリス</th>\n",
       "      <td>64.716</td>\n",
       "      <td>2676.520</td>\n",
       "    </tr>\n",
       "    <tr>\n",
       "      <th>ロシア</th>\n",
       "      <td>143.457</td>\n",
       "      <td>999.832</td>\n",
       "    </tr>\n",
       "    <tr>\n",
       "      <th>ドイツ</th>\n",
       "      <td>80.689</td>\n",
       "      <td>3226.726</td>\n",
       "    </tr>\n",
       "    <tr>\n",
       "      <th>カナダ</th>\n",
       "      <td>35.940</td>\n",
       "      <td>1359.773</td>\n",
       "    </tr>\n",
       "  </tbody>\n",
       "</table>\n",
       "</div>"
      ],
      "text/plain": [
       "       人口(百万人)        GDP\n",
       "国名                       \n",
       "アメリカ   321.774  14682.739\n",
       "中国    1376.049   5320.232\n",
       "イギリス    64.716   2676.520\n",
       "ロシア    143.457    999.832\n",
       "ドイツ     80.689   3226.726\n",
       "カナダ     35.940   1359.773"
      ]
     },
     "execution_count": 64,
     "metadata": {},
     "output_type": "execute_result"
    }
   ],
   "source": [
    "dfx=pd.read_csv('data.csv',header=0,index_col=0,usecols=[0,1,2])\n",
    "dfx"
   ]
  },
  {
   "cell_type": "code",
   "execution_count": 65,
   "metadata": {},
   "outputs": [],
   "source": [
    "x=dfx"
   ]
  },
  {
   "cell_type": "code",
   "execution_count": 66,
   "metadata": {},
   "outputs": [
    {
     "name": "stdout",
     "output_type": "stream",
     "text": [
      "       人口(百万人)        GDP\n",
      "国名                       \n",
      "アメリカ   321.774  14682.739\n",
      "中国    1376.049   5320.232\n",
      "イギリス    64.716   2676.520\n",
      "ロシア    143.457    999.832\n",
      "ドイツ     80.689   3226.726\n",
      "カナダ     35.940   1359.773\n"
     ]
    }
   ],
   "source": [
    "print(dfx)"
   ]
  },
  {
   "cell_type": "code",
   "execution_count": 67,
   "metadata": {},
   "outputs": [
    {
     "data": {
      "text/plain": [
       "(6, 2)"
      ]
     },
     "execution_count": 67,
     "metadata": {},
     "output_type": "execute_result"
    }
   ],
   "source": [
    "x.shape"
   ]
  },
  {
   "cell_type": "code",
   "execution_count": 68,
   "metadata": {},
   "outputs": [
    {
     "data": {
      "text/html": [
       "<div>\n",
       "<style scoped>\n",
       "    .dataframe tbody tr th:only-of-type {\n",
       "        vertical-align: middle;\n",
       "    }\n",
       "\n",
       "    .dataframe tbody tr th {\n",
       "        vertical-align: top;\n",
       "    }\n",
       "\n",
       "    .dataframe thead th {\n",
       "        text-align: right;\n",
       "    }\n",
       "</style>\n",
       "<table border=\"1\" class=\"dataframe\">\n",
       "  <thead>\n",
       "    <tr style=\"text-align: right;\">\n",
       "      <th></th>\n",
       "      <th>メダル獲得数　金</th>\n",
       "      <th>銀</th>\n",
       "      <th>銅</th>\n",
       "    </tr>\n",
       "  </thead>\n",
       "  <tbody>\n",
       "    <tr>\n",
       "      <th>0</th>\n",
       "      <td>46</td>\n",
       "      <td>37</td>\n",
       "      <td>38</td>\n",
       "    </tr>\n",
       "    <tr>\n",
       "      <th>1</th>\n",
       "      <td>26</td>\n",
       "      <td>18</td>\n",
       "      <td>26</td>\n",
       "    </tr>\n",
       "    <tr>\n",
       "      <th>2</th>\n",
       "      <td>27</td>\n",
       "      <td>23</td>\n",
       "      <td>17</td>\n",
       "    </tr>\n",
       "    <tr>\n",
       "      <th>3</th>\n",
       "      <td>19</td>\n",
       "      <td>18</td>\n",
       "      <td>19</td>\n",
       "    </tr>\n",
       "    <tr>\n",
       "      <th>4</th>\n",
       "      <td>17</td>\n",
       "      <td>10</td>\n",
       "      <td>15</td>\n",
       "    </tr>\n",
       "    <tr>\n",
       "      <th>5</th>\n",
       "      <td>4</td>\n",
       "      <td>3</td>\n",
       "      <td>15</td>\n",
       "    </tr>\n",
       "  </tbody>\n",
       "</table>\n",
       "</div>"
      ],
      "text/plain": [
       "   メダル獲得数　金   銀   銅\n",
       "0        46  37  38\n",
       "1        26  18  26\n",
       "2        27  23  17\n",
       "3        19  18  19\n",
       "4        17  10  15\n",
       "5         4   3  15"
      ]
     },
     "execution_count": 68,
     "metadata": {},
     "output_type": "execute_result"
    }
   ],
   "source": [
    "dfy=pd.read_csv('data.csv',header=0,usecols=[3,4,5])\n",
    "dfy"
   ]
  },
  {
   "cell_type": "code",
   "execution_count": 69,
   "metadata": {},
   "outputs": [],
   "source": [
    "y=dfy"
   ]
  },
  {
   "cell_type": "code",
   "execution_count": 70,
   "metadata": {},
   "outputs": [
    {
     "data": {
      "text/plain": [
       "(6, 3)"
      ]
     },
     "execution_count": 70,
     "metadata": {},
     "output_type": "execute_result"
    }
   ],
   "source": [
    "y.shape"
   ]
  },
  {
   "cell_type": "code",
   "execution_count": 72,
   "metadata": {},
   "outputs": [],
   "source": [
    "n,m=x.shape\n",
    "n,s=y.shape"
   ]
  },
  {
   "cell_type": "code",
   "execution_count": 73,
   "metadata": {},
   "outputs": [],
   "source": [
    "res=[]"
   ]
  },
  {
   "cell_type": "code",
   "execution_count": 74,
   "metadata": {},
   "outputs": [
    {
     "name": "stdout",
     "output_type": "stream",
     "text": [
      "DMU_0 :  ['アメリカ']\n",
      "vs:  [0.00310777 0.        ]\n",
      "us:  [0.00331766 0.         0.00656151]\n",
      " \n",
      "DMU_1 :  ['中国']\n",
      "vs:  [0.         0.00018796]\n",
      "us:  [0.         0.         0.00989106]\n",
      " \n",
      "DMU_2 :  ['イギリス']\n",
      "vs:  [0.01545213 0.        ]\n",
      "us:  [0.01649572 0.         0.03262444]\n",
      " \n",
      "DMU_3 :  ['ロシア']\n",
      "vs:  [0.         0.00100017]\n",
      "us:  [0.         0.         0.05263158]\n",
      " \n",
      "DMU_4 :  ['ドイツ']\n",
      "vs:  [0.00372388 0.00021679]\n",
      "us:  [0.01493177 0.         0.02459301]\n",
      " \n",
      "DMU_5 :  ['カナダ']\n",
      "vs:  [0.00936054 0.00048801]\n",
      "us:  [0.         0.03972503 0.05872166]\n",
      " \n"
     ]
    }
   ],
   "source": [
    "for o in range(n):\n",
    "    prob=LpProblem('DMU_'+str(o),LpMaximize)\n",
    "    #　重み\n",
    "    v=[LpVariable('v'+str(i),lowBound=0,\n",
    "                  cat='Continuous') for i in range(m)]\n",
    "    u=[LpVariable('u'+str(i),lowBound=0,\n",
    "                  cat='Continuous') for i in range(s)]\n",
    "    #　目的関数\n",
    "    prob += lpDot(u,y.iloc[o,:])\n",
    "\n",
    "    # 制約条件\n",
    "    prob += lpDot(v,x.iloc[o,:])==1,'Normalize'+str(o)\n",
    "\n",
    "    for j in range(n):\n",
    "        prob += lpDot(u,y.iloc[j,:]) <= lpDot(v,x.iloc[j,:])\n",
    "\n",
    "    prob.solve()\n",
    "    vs=np.array([v[i].varValue for i in range(m)]) #v*\n",
    "    us=np.array([u[i].varValue for i in range(s)]) #u*\n",
    "    print('DMU_'+str(o),': ',DMUs[o])\n",
    "    print('vs: ',vs)\n",
    "    print('us: ',us)\n",
    "    print(' ')\n",
    "#     # 参照集合作成\n",
    "#     (eo,)=np.where(np.abs(np.dot(vs,x)-np.dot(us,y))<= MEPS)\n",
    "\n",
    "#     res.append([DMUs[o],value(prob.objective),\n",
    "#                 set(eo),tuple(vs),tuple(us)])\n",
    "\n",
    "    res.append([DMUs[o],value(prob.objective)])"
   ]
  },
  {
   "cell_type": "code",
   "execution_count": 75,
   "metadata": {},
   "outputs": [
    {
     "name": "stdout",
     "output_type": "stream",
     "text": [
      "[[array(['アメリカ'], dtype=object), 0.40194980579999995], [array(['中国'], dtype=object), 0.257167573], [array(['イギリス'], dtype=object), 0.9999999980000001], [array(['ロシア'], dtype=object), 1.0000000009999999], [array(['ドイツ'], dtype=object), 0.622735255], [array(['カナダ'], dtype=object), 1.000000005]]\n"
     ]
    }
   ],
   "source": [
    "print(res)"
   ]
  },
  {
   "cell_type": "code",
   "execution_count": 76,
   "metadata": {},
   "outputs": [
    {
     "data": {
      "text/html": [
       "<div>\n",
       "<style scoped>\n",
       "    .dataframe tbody tr th:only-of-type {\n",
       "        vertical-align: middle;\n",
       "    }\n",
       "\n",
       "    .dataframe tbody tr th {\n",
       "        vertical-align: top;\n",
       "    }\n",
       "\n",
       "    .dataframe thead th {\n",
       "        text-align: right;\n",
       "    }\n",
       "</style>\n",
       "<table border=\"1\" class=\"dataframe\">\n",
       "  <thead>\n",
       "    <tr style=\"text-align: right;\">\n",
       "      <th></th>\n",
       "      <th>国名</th>\n",
       "      <th>効率値</th>\n",
       "    </tr>\n",
       "  </thead>\n",
       "  <tbody>\n",
       "    <tr>\n",
       "      <th>5</th>\n",
       "      <td>[カナダ]</td>\n",
       "      <td>1.000000</td>\n",
       "    </tr>\n",
       "    <tr>\n",
       "      <th>3</th>\n",
       "      <td>[ロシア]</td>\n",
       "      <td>1.000000</td>\n",
       "    </tr>\n",
       "    <tr>\n",
       "      <th>2</th>\n",
       "      <td>[イギリス]</td>\n",
       "      <td>1.000000</td>\n",
       "    </tr>\n",
       "    <tr>\n",
       "      <th>4</th>\n",
       "      <td>[ドイツ]</td>\n",
       "      <td>0.622735</td>\n",
       "    </tr>\n",
       "    <tr>\n",
       "      <th>0</th>\n",
       "      <td>[アメリカ]</td>\n",
       "      <td>0.401950</td>\n",
       "    </tr>\n",
       "    <tr>\n",
       "      <th>1</th>\n",
       "      <td>[中国]</td>\n",
       "      <td>0.257168</td>\n",
       "    </tr>\n",
       "  </tbody>\n",
       "</table>\n",
       "</div>"
      ],
      "text/plain": [
       "       国名       効率値\n",
       "5   [カナダ]  1.000000\n",
       "3   [ロシア]  1.000000\n",
       "2  [イギリス]  1.000000\n",
       "4   [ドイツ]  0.622735\n",
       "0  [アメリカ]  0.401950\n",
       "1    [中国]  0.257168"
      ]
     },
     "execution_count": 76,
     "metadata": {},
     "output_type": "execute_result"
    }
   ],
   "source": [
    "df_f=pd.DataFrame(res,columns=['国名','効率値'])\n",
    "df_s=df_f.sort_values('効率値',ascending=False)\n",
    "df_s"
   ]
  },
  {
   "cell_type": "code",
   "execution_count": 71,
   "metadata": {},
   "outputs": [],
   "source": [
    "# def DEA_CCR(x,y,DMUs):\n",
    "#     n,m=x.shape\n",
    "#     n,s=y.shape\n",
    "    \n",
    "#     res=[]\n",
    "    \n",
    "#     for o in range(n):\n",
    "#         prob=LpProblem('DMU_'+str(o),LpMaximize)\n",
    "#         #　重み\n",
    "#         v=[LpVariable('v'+str(i),lowBound=0,\n",
    "#                       cat='Continuous') for i in range(m)]\n",
    "#         u=[LpVariable('u'+str(i),lowBound=0,\n",
    "#                       cat='Continuous') for i in range(s)]\n",
    "#         #　目的関数\n",
    "#         prob += lpDot(u,y.iloc[:,o])\n",
    "\n",
    "#         # 制約条件\n",
    "#         prob += lpDot(v,x.iloc[:,o])==1,'Normalize'+str(o)\n",
    "\n",
    "#         for j in range(n):\n",
    "#             prob += lpDot(u,y.iloc[:,j]) <= lpDot(v,x.iloc[:,j])\n",
    "\n",
    "#         prob.solve()\n",
    "#         vs=np.array([v[i].varValue for i in range(m)]) #v*\n",
    "#         us=np.array([v[i].varValue for i in range(m)]) #u*\n",
    "#         # 参照集合作成\n",
    "#         (eo,)=np.where(np.abs(np.dot(vs,x)-np.dot(us,y))<= MEPS)\n",
    "#         res.append([DMUs[o],value(prob.objective),\n",
    "#                     set(eo),tuple(vs),tuple(us)])\n",
    "#     return res"
   ]
  },
  {
   "cell_type": "code",
   "execution_count": null,
   "metadata": {},
   "outputs": [],
   "source": []
  },
  {
   "cell_type": "code",
   "execution_count": null,
   "metadata": {},
   "outputs": [],
   "source": []
  },
  {
   "cell_type": "code",
   "execution_count": 248,
   "metadata": {},
   "outputs": [],
   "source": []
  }
 ],
 "metadata": {
  "kernelspec": {
   "display_name": "Python 3",
   "language": "python",
   "name": "python3"
  },
  "language_info": {
   "codemirror_mode": {
    "name": "ipython",
    "version": 3
   },
   "file_extension": ".py",
   "mimetype": "text/x-python",
   "name": "python",
   "nbconvert_exporter": "python",
   "pygments_lexer": "ipython3",
   "version": "3.8.1"
  }
 },
 "nbformat": 4,
 "nbformat_minor": 4
}
