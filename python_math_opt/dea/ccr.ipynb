{
 "cells": [
  {
   "cell_type": "code",
   "execution_count": 1,
   "metadata": {},
   "outputs": [],
   "source": [
    "import numpy as np\n",
    "from pulp import *\n",
    "MEPS=1.03-6"
   ]
  },
  {
   "cell_type": "code",
   "execution_count": 2,
   "metadata": {},
   "outputs": [
    {
     "ename": "SyntaxError",
     "evalue": "invalid syntax (<ipython-input-2-773b3bbd2ed1>, line 15)",
     "output_type": "error",
     "traceback": [
      "\u001b[0;36m  File \u001b[0;32m\"<ipython-input-2-773b3bbd2ed1>\"\u001b[0;36m, line \u001b[0;32m15\u001b[0m\n\u001b[0;31m    prob += lpDot(v,x[:,o])==1,'Normalize'str(o)\u001b[0m\n\u001b[0m                                          ^\u001b[0m\n\u001b[0;31mSyntaxError\u001b[0m\u001b[0;31m:\u001b[0m invalid syntax\n"
     ]
    }
   ],
   "source": [
    "def DEA_CCR(x,y,DMUs):\n",
    "    m,n=x.shape\n",
    "    s,n=y.shape\n",
    "    \n",
    "    res=[]\n",
    "    for o in range(n):\n",
    "        prob=LpProblem('DMU_'+str(o),LpMaximize)\n",
    "        v=[LpVariable('v'+str(i),lowBound=0,\n",
    "                      cat='Continuous') for i in range(m)]\n",
    "        u=[LpVariable('u'+str(i),lowBound=0,\n",
    "                      cat='Continuous') for i in range(s)]\n",
    "        \n",
    "        prob += lpDot(u,y[:,o])\n",
    "        \n",
    "        prob += lpDot(v,x[:,o])==1,'Normalize'str(o)\n",
    "        for j in range(n):\n",
    "            prob += lpDot(u,y[:,j]) <= lpDot(v,x[:,j])\n",
    "            \n",
    "        prob.solve()\n",
    "        vs=np.array([v[i].varValue for i in range(m)])\n",
    "        us=np.array([v[i].varValue for i in range(m)])\n",
    "        # 参照集合作成\n",
    "        (eo,)=np.where(np.abs(np.dot(vs,x)-np.dot(us,y))  <= MEPS)\n",
    "        res.append([DMUs[o],value(prob.objectiove),\n",
    "                    set(eo),tuple(vs),tuple(us)])\n",
    "    return res"
   ]
  },
  {
   "cell_type": "code",
   "execution_count": null,
   "metadata": {},
   "outputs": [],
   "source": []
  }
 ],
 "metadata": {
  "kernelspec": {
   "display_name": "Python 3",
   "language": "python",
   "name": "python3"
  },
  "language_info": {
   "codemirror_mode": {
    "name": "ipython",
    "version": 3
   },
   "file_extension": ".py",
   "mimetype": "text/x-python",
   "name": "python",
   "nbconvert_exporter": "python",
   "pygments_lexer": "ipython3",
   "version": "3.8.1"
  }
 },
 "nbformat": 4,
 "nbformat_minor": 4
}
