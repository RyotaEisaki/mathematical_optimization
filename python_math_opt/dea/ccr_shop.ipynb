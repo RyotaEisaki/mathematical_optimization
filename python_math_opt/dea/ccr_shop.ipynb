{
 "cells": [
  {
   "cell_type": "code",
   "execution_count": 507,
   "metadata": {},
   "outputs": [],
   "source": [
    "%matplotlib inline\n",
    "import numpy as np\n",
    "from pulp import *\n",
    "import pandas as pd\n",
    "import pprint\n",
    "import csv\n",
    "MEPS=1.03-6"
   ]
  },
  {
   "cell_type": "code",
   "execution_count": 508,
   "metadata": {},
   "outputs": [
    {
     "data": {
      "text/html": [
       "<div>\n",
       "<style scoped>\n",
       "    .dataframe tbody tr th:only-of-type {\n",
       "        vertical-align: middle;\n",
       "    }\n",
       "\n",
       "    .dataframe tbody tr th {\n",
       "        vertical-align: top;\n",
       "    }\n",
       "\n",
       "    .dataframe thead th {\n",
       "        text-align: right;\n",
       "    }\n",
       "</style>\n",
       "<table border=\"1\" class=\"dataframe\">\n",
       "  <thead>\n",
       "    <tr style=\"text-align: right;\">\n",
       "      <th></th>\n",
       "      <th>店舗</th>\n",
       "    </tr>\n",
       "  </thead>\n",
       "  <tbody>\n",
       "    <tr>\n",
       "      <th>0</th>\n",
       "      <td>Shop0</td>\n",
       "    </tr>\n",
       "    <tr>\n",
       "      <th>1</th>\n",
       "      <td>Shop1</td>\n",
       "    </tr>\n",
       "    <tr>\n",
       "      <th>2</th>\n",
       "      <td>Shop2</td>\n",
       "    </tr>\n",
       "    <tr>\n",
       "      <th>3</th>\n",
       "      <td>Shop3</td>\n",
       "    </tr>\n",
       "    <tr>\n",
       "      <th>4</th>\n",
       "      <td>Shop4</td>\n",
       "    </tr>\n",
       "    <tr>\n",
       "      <th>5</th>\n",
       "      <td>Shop5</td>\n",
       "    </tr>\n",
       "  </tbody>\n",
       "</table>\n",
       "</div>"
      ],
      "text/plain": [
       "      店舗\n",
       "0  Shop0\n",
       "1  Shop1\n",
       "2  Shop2\n",
       "3  Shop3\n",
       "4  Shop4\n",
       "5  Shop5"
      ]
     },
     "execution_count": 508,
     "metadata": {},
     "output_type": "execute_result"
    }
   ],
   "source": [
    "df=pd.read_csv('shop.csv',header=0,usecols=[0])\n",
    "df"
   ]
  },
  {
   "cell_type": "code",
   "execution_count": 509,
   "metadata": {},
   "outputs": [
    {
     "name": "stdout",
     "output_type": "stream",
     "text": [
      "[['Shop0']\n",
      " ['Shop1']\n",
      " ['Shop2']\n",
      " ['Shop3']\n",
      " ['Shop4']\n",
      " ['Shop5']]\n"
     ]
    }
   ],
   "source": [
    "DMUs=df.values\n",
    "print(DMUs)"
   ]
  },
  {
   "cell_type": "code",
   "execution_count": 510,
   "metadata": {},
   "outputs": [
    {
     "name": "stdout",
     "output_type": "stream",
     "text": [
      "       店員数  稼働時間\n",
      "店舗              \n",
      "Shop0    5  24.0\n",
      "Shop1   10  12.0\n",
      "Shop2   20  12.0\n",
      "Shop3   20  24.0\n",
      "Shop4   30   7.2\n",
      "Shop5   50  12.0\n",
      "\n",
      "[[ 5.  24. ]\n",
      " [10.  12. ]\n",
      " [20.  12. ]\n",
      " [20.  24. ]\n",
      " [30.   7.2]\n",
      " [50.  12. ]]\n"
     ]
    }
   ],
   "source": [
    "dfx=pd.read_csv('shop.csv',header=0,index_col=0,usecols=[0,1,2])\n",
    "print(dfx)\n",
    "print('')\n",
    "datax=dfx.values\n",
    "print(datax)"
   ]
  },
  {
   "cell_type": "code",
   "execution_count": 511,
   "metadata": {},
   "outputs": [],
   "source": [
    "x=dfx"
   ]
  },
  {
   "cell_type": "code",
   "execution_count": 512,
   "metadata": {},
   "outputs": [
    {
     "name": "stdout",
     "output_type": "stream",
     "text": [
      "       店員数  稼働時間\n",
      "店舗              \n",
      "Shop0    5  24.0\n",
      "Shop1   10  12.0\n",
      "Shop2   20  12.0\n",
      "Shop3   20  24.0\n",
      "Shop4   30   7.2\n",
      "Shop5   50  12.0\n",
      "\n",
      "[[ 2]\n",
      " [ 6]\n",
      " [10]\n",
      " [12]\n",
      " [12]\n",
      " [20]]\n"
     ]
    }
   ],
   "source": [
    "print(dfx)\n",
    "print('')\n",
    "datay=dfy.values\n",
    "print(datay)"
   ]
  },
  {
   "cell_type": "code",
   "execution_count": 513,
   "metadata": {},
   "outputs": [
    {
     "data": {
      "text/plain": [
       "(6, 2)"
      ]
     },
     "execution_count": 513,
     "metadata": {},
     "output_type": "execute_result"
    }
   ],
   "source": [
    "x.shape"
   ]
  },
  {
   "cell_type": "code",
   "execution_count": 514,
   "metadata": {},
   "outputs": [
    {
     "data": {
      "text/html": [
       "<div>\n",
       "<style scoped>\n",
       "    .dataframe tbody tr th:only-of-type {\n",
       "        vertical-align: middle;\n",
       "    }\n",
       "\n",
       "    .dataframe tbody tr th {\n",
       "        vertical-align: top;\n",
       "    }\n",
       "\n",
       "    .dataframe thead th {\n",
       "        text-align: right;\n",
       "    }\n",
       "</style>\n",
       "<table border=\"1\" class=\"dataframe\">\n",
       "  <thead>\n",
       "    <tr style=\"text-align: right;\">\n",
       "      <th></th>\n",
       "      <th>売り上げ</th>\n",
       "    </tr>\n",
       "  </thead>\n",
       "  <tbody>\n",
       "    <tr>\n",
       "      <th>0</th>\n",
       "      <td>2</td>\n",
       "    </tr>\n",
       "    <tr>\n",
       "      <th>1</th>\n",
       "      <td>6</td>\n",
       "    </tr>\n",
       "    <tr>\n",
       "      <th>2</th>\n",
       "      <td>10</td>\n",
       "    </tr>\n",
       "    <tr>\n",
       "      <th>3</th>\n",
       "      <td>12</td>\n",
       "    </tr>\n",
       "    <tr>\n",
       "      <th>4</th>\n",
       "      <td>12</td>\n",
       "    </tr>\n",
       "    <tr>\n",
       "      <th>5</th>\n",
       "      <td>20</td>\n",
       "    </tr>\n",
       "  </tbody>\n",
       "</table>\n",
       "</div>"
      ],
      "text/plain": [
       "   売り上げ\n",
       "0     2\n",
       "1     6\n",
       "2    10\n",
       "3    12\n",
       "4    12\n",
       "5    20"
      ]
     },
     "execution_count": 514,
     "metadata": {},
     "output_type": "execute_result"
    }
   ],
   "source": [
    "dfy=pd.read_csv('shop.csv',header=0,usecols=[3])\n",
    "dfy"
   ]
  },
  {
   "cell_type": "code",
   "execution_count": 515,
   "metadata": {},
   "outputs": [],
   "source": [
    "y=dfy"
   ]
  },
  {
   "cell_type": "code",
   "execution_count": 516,
   "metadata": {},
   "outputs": [
    {
     "data": {
      "text/plain": [
       "(6, 1)"
      ]
     },
     "execution_count": 516,
     "metadata": {},
     "output_type": "execute_result"
    }
   ],
   "source": [
    "y.shape"
   ]
  },
  {
   "cell_type": "code",
   "execution_count": 517,
   "metadata": {},
   "outputs": [],
   "source": [
    "n,m=x.shape\n",
    "n,s=y.shape"
   ]
  },
  {
   "cell_type": "code",
   "execution_count": 518,
   "metadata": {},
   "outputs": [],
   "source": [
    "res=[]\n",
    "vs_=[]\n",
    "us_=[]"
   ]
  },
  {
   "cell_type": "code",
   "execution_count": 519,
   "metadata": {},
   "outputs": [
    {
     "name": "stdout",
     "output_type": "stream",
     "text": [
      "DMU_0 :  ['Shop0']\n",
      "vs_0 :  [0.2 0. ]\n",
      "us_0 :  [0.33333333]\n",
      " \n",
      "DMU_1 :  ['Shop1']\n",
      "vs_1 :  [0.1 0. ]\n",
      "us_1 :  [0.16666667]\n",
      " \n",
      "DMU_2 :  ['Shop2']\n",
      "vs_2 :  [0.04       0.01666667]\n",
      "us_2 :  [0.1]\n",
      " \n",
      "DMU_3 :  ['Shop3']\n",
      "vs_3 :  [0.05 0.  ]\n",
      "us_3 :  [0.08333333]\n",
      " \n",
      "DMU_4 :  ['Shop4']\n",
      "vs_4 :  [0.         0.13888889]\n",
      "us_4 :  [0.08333333]\n",
      " \n",
      "DMU_5 :  ['Shop5']\n",
      "vs_5 :  [0.         0.08333333]\n",
      "us_5 :  [0.05]\n",
      " \n"
     ]
    }
   ],
   "source": [
    "for o in range(n):\n",
    "    prob=LpProblem('DMU_'+str(o),LpMaximize)\n",
    "    #　重み\n",
    "    v=[LpVariable('v'+str(i),lowBound=0,\n",
    "                  cat='Continuous') for i in range(m)]\n",
    "    u=[LpVariable('u'+str(i),lowBound=0,\n",
    "                  cat='Continuous') for i in range(s)]\n",
    "    #　目的関数\n",
    "    prob += lpDot(u,y.iloc[o,:])\n",
    "\n",
    "    # 制約条件\n",
    "    prob += lpDot(v,x.iloc[o,:])==1,'Normalize'+str(o)\n",
    "\n",
    "    for j in range(n):\n",
    "        prob += lpDot(u,y.iloc[j,:]) <= lpDot(v,x.iloc[j,:])\n",
    "\n",
    "    prob.solve()\n",
    "    vs=np.array([v[i].varValue for i in range(m)]) #v*\n",
    "    vs_.append([vs])\n",
    "    us=np.array([u[i].varValue for i in range(s)]) #u*\n",
    "    us_.append([us])\n",
    "    print('DMU_'+str(o),': ',DMUs[o])\n",
    "    print('vs_'+str(o),': ',vs)\n",
    "    print('us_'+str(o),': ',us)\n",
    "    print(' ')\n",
    "#     # 参照集合作成\n",
    "#     (eo,)=np.where(np.abs(np.dot(vs,x)-np.dot(us,y))<= MEPS)\n",
    "\n",
    "#     res.append([DMUs[o],value(prob.objective),\n",
    "#                 set(eo),tuple(vs),tuple(us)])\n",
    "\n",
    "    res.append([DMUs[o],value(prob.objective)])"
   ]
  },
  {
   "cell_type": "code",
   "execution_count": 520,
   "metadata": {},
   "outputs": [
    {
     "name": "stdout",
     "output_type": "stream",
     "text": [
      "[array([0.2, 0. ])]\n"
     ]
    }
   ],
   "source": [
    "print(vs_[0])"
   ]
  },
  {
   "cell_type": "code",
   "execution_count": 521,
   "metadata": {},
   "outputs": [
    {
     "name": "stdout",
     "output_type": "stream",
     "text": [
      "[[array(['Shop0'], dtype=object) 0.66666666]\n",
      " [array(['Shop1'], dtype=object) 1.0000000199999999]\n",
      " [array(['Shop2'], dtype=object) 1.0]\n",
      " [array(['Shop3'], dtype=object) 0.9999999959999999]\n",
      " [array(['Shop4'], dtype=object) 0.9999999959999999]\n",
      " [array(['Shop5'], dtype=object) 1.0]]\n"
     ]
    }
   ],
   "source": [
    "test=np.array(res)\n",
    "print(test)"
   ]
  },
  {
   "cell_type": "code",
   "execution_count": 522,
   "metadata": {},
   "outputs": [
    {
     "data": {
      "text/html": [
       "<div>\n",
       "<style scoped>\n",
       "    .dataframe tbody tr th:only-of-type {\n",
       "        vertical-align: middle;\n",
       "    }\n",
       "\n",
       "    .dataframe tbody tr th {\n",
       "        vertical-align: top;\n",
       "    }\n",
       "\n",
       "    .dataframe thead th {\n",
       "        text-align: right;\n",
       "    }\n",
       "</style>\n",
       "<table border=\"1\" class=\"dataframe\">\n",
       "  <thead>\n",
       "    <tr style=\"text-align: right;\">\n",
       "      <th></th>\n",
       "      <th>店舗番号</th>\n",
       "      <th>効率値</th>\n",
       "    </tr>\n",
       "  </thead>\n",
       "  <tbody>\n",
       "    <tr>\n",
       "      <th>1</th>\n",
       "      <td>[Shop1]</td>\n",
       "      <td>1.000000</td>\n",
       "    </tr>\n",
       "    <tr>\n",
       "      <th>2</th>\n",
       "      <td>[Shop2]</td>\n",
       "      <td>1.000000</td>\n",
       "    </tr>\n",
       "    <tr>\n",
       "      <th>5</th>\n",
       "      <td>[Shop5]</td>\n",
       "      <td>1.000000</td>\n",
       "    </tr>\n",
       "    <tr>\n",
       "      <th>3</th>\n",
       "      <td>[Shop3]</td>\n",
       "      <td>1.000000</td>\n",
       "    </tr>\n",
       "    <tr>\n",
       "      <th>4</th>\n",
       "      <td>[Shop4]</td>\n",
       "      <td>1.000000</td>\n",
       "    </tr>\n",
       "    <tr>\n",
       "      <th>0</th>\n",
       "      <td>[Shop0]</td>\n",
       "      <td>0.666667</td>\n",
       "    </tr>\n",
       "  </tbody>\n",
       "</table>\n",
       "</div>"
      ],
      "text/plain": [
       "      店舗番号       効率値\n",
       "1  [Shop1]  1.000000\n",
       "2  [Shop2]  1.000000\n",
       "5  [Shop5]  1.000000\n",
       "3  [Shop3]  1.000000\n",
       "4  [Shop4]  1.000000\n",
       "0  [Shop0]  0.666667"
      ]
     },
     "execution_count": 522,
     "metadata": {},
     "output_type": "execute_result"
    }
   ],
   "source": [
    "df_f=pd.DataFrame(res,columns=['店舗番号','効率値'])\n",
    "df_s=df_f.sort_values('効率値',ascending=False)\n",
    "df_s"
   ]
  },
  {
   "cell_type": "code",
   "execution_count": 495,
   "metadata": {},
   "outputs": [],
   "source": [
    "k=4"
   ]
  },
  {
   "cell_type": "code",
   "execution_count": 496,
   "metadata": {},
   "outputs": [
    {
     "name": "stdout",
     "output_type": "stream",
     "text": [
      "[30 12]\n",
      "12\n"
     ]
    }
   ],
   "source": [
    "print(datax[k])\n",
    "print(datay[k][0])"
   ]
  },
  {
   "cell_type": "code",
   "execution_count": 497,
   "metadata": {},
   "outputs": [
    {
     "name": "stdout",
     "output_type": "stream",
     "text": [
      "[0.025      0.02083333]\n",
      "0.075\n"
     ]
    }
   ],
   "source": [
    "print(vs_[k][0])\n",
    "print(us_[k][0][0])"
   ]
  },
  {
   "cell_type": "code",
   "execution_count": 498,
   "metadata": {},
   "outputs": [],
   "source": [
    "x1=LpVariable('x1', lowBound=0.0)\n",
    "x2=LpVariable('x2', lowBound=0.0)\n",
    "x3=LpVariable('x3', lowBound=0.0)\n",
    "x4=LpVariable('x4', lowBound=0.0)\n",
    "x5=LpVariable('x5', lowBound=0.0)\n",
    "x6=LpVariable('x6', lowBound=0.0)\n",
    "prob=LpProblem(name='LP-Sample',sense=LpMinimize)"
   ]
  },
  {
   "cell_type": "code",
   "execution_count": 499,
   "metadata": {},
   "outputs": [],
   "source": [
    "# 目的関数\n",
    "prob += x1-x2+x3-x4+x5-x6\n",
    "# 制約式\n",
    "T1=vs_[k][0][0]*(datax[k][0]+x1-x2)\n",
    "T2=vs_[k][0][1]*(datax[k][1]+x3-x4)\n",
    "T3=us_[k][0][0]*(datay[k][0]+x5-x6)\n",
    "T4=T1+T2\n",
    "prob += T3==T4\n",
    "# prob += (vs_[4][0][0]*(datax[4][0]+x1-x2))+vs_[4][0][1]*(datax[4][1]+x3-x4) = us_[4][0]*(datay[4][0]+x5-x6)"
   ]
  },
  {
   "cell_type": "code",
   "execution_count": 500,
   "metadata": {},
   "outputs": [
    {
     "name": "stdout",
     "output_type": "stream",
     "text": [
      "LP-Sample:\n",
      "MINIMIZE\n",
      "1*x1 + -1*x2 + 1*x3 + -1*x4 + 1*x5 + -1*x6 + 0\n",
      "SUBJECT TO\n",
      "_C1: - 0.025 x1 + 0.025 x2 - 0.020833333 x3 + 0.020833333 x4 + 0.075 x5\n",
      " - 0.075 x6 = 0.099999996\n",
      "\n",
      "VARIABLES\n",
      "x1 Continuous\n",
      "x2 Continuous\n",
      "x3 Continuous\n",
      "x4 Continuous\n",
      "x5 Continuous\n",
      "x6 Continuous\n",
      "\n"
     ]
    },
    {
     "data": {
      "text/plain": [
       "-2"
      ]
     },
     "execution_count": 500,
     "metadata": {},
     "output_type": "execute_result"
    }
   ],
   "source": [
    "print(prob)\n",
    "prob.solve()"
   ]
  },
  {
   "cell_type": "code",
   "execution_count": 501,
   "metadata": {},
   "outputs": [
    {
     "name": "stdout",
     "output_type": "stream",
     "text": [
      "Unbounded\n",
      "Optimal value= -4.7999999\n"
     ]
    }
   ],
   "source": [
    "print(LpStatus[prob.status])\n",
    "print('Optimal value=', value(prob.objective))"
   ]
  },
  {
   "cell_type": "code",
   "execution_count": 502,
   "metadata": {},
   "outputs": [
    {
     "name": "stdout",
     "output_type": "stream",
     "text": [
      "x1 = 0.0\n",
      "x2 = 0.0\n",
      "x3 = 0.0\n",
      "x4 = 4.7999999\n",
      "x5 = 0.0\n",
      "x6 = 0.0\n"
     ]
    }
   ],
   "source": [
    "for v in prob.variables():\n",
    "    print(v.name,'=',value(v))"
   ]
  },
  {
   "cell_type": "code",
   "execution_count": 503,
   "metadata": {},
   "outputs": [
    {
     "name": "stdout",
     "output_type": "stream",
     "text": [
      "x1-x2= 0.0\n",
      "x3-x4= -4.7999999\n",
      "x5-x6= 0.0\n"
     ]
    }
   ],
   "source": [
    "A=value(x1)-value(x2)\n",
    "print('x1-x2=',A)\n",
    "B=value(x3)-value(x4)\n",
    "print('x3-x4=',B)\n",
    "C=value(x5)-value(x6)\n",
    "print('x5-x6=',C)"
   ]
  },
  {
   "cell_type": "code",
   "execution_count": 504,
   "metadata": {},
   "outputs": [
    {
     "data": {
      "text/plain": [
       "0.8999999996833332"
      ]
     },
     "execution_count": 504,
     "metadata": {},
     "output_type": "execute_result"
    }
   ],
   "source": [
    "vs_[k][0][0]*(datax[k][0]+A)+vs_[k][0][1]*(datax[k][1]+B)"
   ]
  },
  {
   "cell_type": "code",
   "execution_count": 505,
   "metadata": {},
   "outputs": [
    {
     "data": {
      "text/plain": [
       "0.8999999999999999"
      ]
     },
     "execution_count": 505,
     "metadata": {},
     "output_type": "execute_result"
    }
   ],
   "source": [
    "us_[k][0][0]*(datay[k][0]+C)"
   ]
  },
  {
   "cell_type": "code",
   "execution_count": 506,
   "metadata": {},
   "outputs": [
    {
     "data": {
      "text/plain": [
       "7.2000001"
      ]
     },
     "execution_count": 506,
     "metadata": {},
     "output_type": "execute_result"
    }
   ],
   "source": [
    "12-4.7999999"
   ]
  },
  {
   "cell_type": "code",
   "execution_count": null,
   "metadata": {},
   "outputs": [],
   "source": []
  },
  {
   "cell_type": "code",
   "execution_count": null,
   "metadata": {},
   "outputs": [],
   "source": []
  }
 ],
 "metadata": {
  "kernelspec": {
   "display_name": "Python 3",
   "language": "python",
   "name": "python3"
  },
  "language_info": {
   "codemirror_mode": {
    "name": "ipython",
    "version": 3
   },
   "file_extension": ".py",
   "mimetype": "text/x-python",
   "name": "python",
   "nbconvert_exporter": "python",
   "pygments_lexer": "ipython3",
   "version": "3.8.1"
  }
 },
 "nbformat": 4,
 "nbformat_minor": 4
}
