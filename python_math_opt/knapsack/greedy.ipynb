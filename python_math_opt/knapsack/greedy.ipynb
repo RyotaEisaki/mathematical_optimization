{
 "cells": [
  {
   "cell_type": "code",
   "execution_count": 5,
   "metadata": {},
   "outputs": [
    {
     "name": "stdout",
     "output_type": "stream",
     "text": [
      "c[3]/w[3]=10.000000\n",
      "c[5]/w[5]=9.166667\n",
      "c[2]/w[2]=8.000000\n",
      "c[4]/w[4]=7.777778\n",
      "c[1]/w[1]=7.142857\n"
     ]
    }
   ],
   "source": [
    "items= {1,2,3,4,5}\n",
    "c={1:50,2:40,3:10,4:70,5:55}\n",
    "w={1:7,2:5,3:1,4:9,5:6}\n",
    "capacity=15\n",
    "\n",
    "ratio={j:c[j]/w[j] for j in items}\n",
    "sItems=[key for key,val in sorted(ratio.items(),key=lambda x:x[1], reverse=True)]\n",
    "for j in sItems:\n",
    "    print('c[%d]/w[%d]=%lf'%(j,j,c[j]/w[j]))"
   ]
  },
  {
   "cell_type": "code",
   "execution_count": 9,
   "metadata": {},
   "outputs": [
    {
     "name": "stdout",
     "output_type": "stream",
     "text": [
      "{3: 1, 5: 1, 2: 1, 4: 0, 1: 0}\n",
      "総価格 = 105\n"
     ]
    }
   ],
   "source": [
    "x={j:0 for j in sItems}\n",
    "cap=capacity\n",
    "for j in sItems:\n",
    "    if w[j] <=cap:\n",
    "        cap -= w[j]\n",
    "        x[j]=1\n",
    "print(x)\n",
    "print('総価格 =',sum(c[j]*x[j] for j in sItems))"
   ]
  },
  {
   "cell_type": "code",
   "execution_count": null,
   "metadata": {},
   "outputs": [],
   "source": [
    "# 線形緩和"
   ]
  },
  {
   "cell_type": "code",
   "execution_count": 8,
   "metadata": {},
   "outputs": [
    {
     "name": "stdout",
     "output_type": "stream",
     "text": [
      "総価格 = 105\n"
     ]
    }
   ],
   "source": [
    "x={j:0 for j in sItems}\n",
    "cap=capacity\n",
    "for j in sItems:\n",
    "    if w[j] <=cap:\n",
    "        cap -= w[j]\n",
    "        x[j]=1"
   ]
  }
 ],
 "metadata": {
  "kernelspec": {
   "display_name": "Python 3",
   "language": "python",
   "name": "python3"
  },
  "language_info": {
   "codemirror_mode": {
    "name": "ipython",
    "version": 3
   },
   "file_extension": ".py",
   "mimetype": "text/x-python",
   "name": "python",
   "nbconvert_exporter": "python",
   "pygments_lexer": "ipython3",
   "version": "3.8.1"
  }
 },
 "nbformat": 4,
 "nbformat_minor": 4
}
