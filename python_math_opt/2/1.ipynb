{
 "cells": [
  {
   "cell_type": "markdown",
   "metadata": {},
   "source": [
    "### 生産計画問題\n",
    "\n",
    "いくつかの製品を、制限されたいくつかの原材料をもとに製造し、得られる利益を最大化する問題"
   ]
  },
  {
   "cell_type": "markdown",
   "metadata": {},
   "source": [
    "### 線形最適化問題\n",
    "\n",
    "目的関数が線形関数で、制約が全て線形等式と線形不等式である数理最適化問題を、線形最適化問題という"
   ]
  },
  {
   "cell_type": "markdown",
   "metadata": {},
   "source": [
    "### PuLPで線形最適化問題を解く手順\n",
    "\n",
    "1. 問題オブジェクトを生成する\n",
    "1. 変数を定義する\n",
    "1. 問題オブジェクトに、定義した変数を使った目的関数と制約条件を加える\n",
    "1. 問題オブジェクトの最適化メソッドを呼び出し最適化する\n",
    "1. 解を出力する"
   ]
  },
  {
   "cell_type": "code",
   "execution_count": 10,
   "metadata": {},
   "outputs": [],
   "source": [
    "from pulp import *\n",
    "prob= LpProblem(name='LP-Sample', sense=LpMaximize)\n",
    "# sense: 値が最大化か最小化を選ぶ"
   ]
  },
  {
   "cell_type": "code",
   "execution_count": 11,
   "metadata": {},
   "outputs": [
    {
     "name": "stdout",
     "output_type": "stream",
     "text": [
      "LP-Sample:\n",
      "MAXIMIZE\n",
      "2*x1 + 3*x2 + 0\n",
      "SUBJECT TO\n",
      "_C1: x1 + 3 x2 <= 9\n",
      "\n",
      "_C2: x1 + x2 <= 4\n",
      "\n",
      "_C3: x1 + x2 <= 10\n",
      "\n",
      "VARIABLES\n",
      "x1 Continuous\n",
      "x2 Continuous\n",
      "\n",
      "Optimal\n",
      "Optimal value= 10.5\n",
      "x1 = 1.5\n",
      "x2 = 2.5\n"
     ]
    }
   ],
   "source": [
    "# 変数の定義\n",
    "x1=LpVariable('x1',lowBound=0.0)\n",
    "x2=LpVariable('x2',lowBound=0.0)\n",
    "prob += 2*x1+3*x2\n",
    "prob += x1 + 3*x2 <= 9\n",
    "prob += x1 + x2 <= 4\n",
    "prob += x1 + x2 <= 10\n",
    "print(prob)\n",
    "prob.solve()\n",
    "print(LpStatus[prob.status])\n",
    "print('Optimal value=', value(prob.objective))\n",
    "for v in prob.variables():\n",
    "    print(v.name,'=',value(v))"
   ]
  },
  {
   "cell_type": "markdown",
   "metadata": {},
   "source": [
    "### 生産計画問題"
   ]
  },
  {
   "cell_type": "code",
   "execution_count": null,
   "metadata": {},
   "outputs": [],
   "source": [
    "from pulp import *\n",
    "import numpy as np\n",
    "A=np.array([[3,1,2],[1,3,0],[,2,4]])\n",
    "c=np.array([150,200,300])\n",
    "b=np.array([60,36,48])\n",
    "(m,n)=A.shape"
   ]
  }
 ],
 "metadata": {
  "kernelspec": {
   "display_name": "Python 3",
   "language": "python",
   "name": "python3"
  },
  "language_info": {
   "codemirror_mode": {
    "name": "ipython",
    "version": 3
   },
   "file_extension": ".py",
   "mimetype": "text/x-python",
   "name": "python",
   "nbconvert_exporter": "python",
   "pygments_lexer": "ipython3",
   "version": "3.8.1"
  }
 },
 "nbformat": 4,
 "nbformat_minor": 4
}
