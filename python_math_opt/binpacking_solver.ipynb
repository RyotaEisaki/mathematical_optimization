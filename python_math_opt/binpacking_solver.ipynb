{
 "cells": [
  {
   "cell_type": "code",
   "execution_count": 178,
   "metadata": {},
   "outputs": [],
   "source": [
    "from pulp import *\n",
    "MEPS=1.0e-8"
   ]
  },
  {
   "cell_type": "code",
   "execution_count": 179,
   "metadata": {},
   "outputs": [],
   "source": [
    "def binpacking(capacity,w):\n",
    "    n=len(w)\n",
    "    items=range(n)\n",
    "    bpprob=LpProblem(name='BinPacking2', sense=LpMinimize)\n",
    "    z=[LpVariable('z'+str(j),lowBound=0,cat='Binary')for j in items]\n",
    "    x=[[LpVariable('x'+str(i)+'_'+str(j),lowBound=0,cat='Binary') for j in items] for i in items]\n",
    "    \n",
    "    bpprob += lpSum(z[i] for i in items)\n",
    "    for i in items:\n",
    "        bpprob += lpSum(x[i][j] for j in items) ==1\n",
    "    for j in items:\n",
    "        bpprob += lpSum(x[i][j]*w[i] for i in items) <= capacity*z[j]\n",
    "            \n",
    "    bpprob.solve()\n",
    "    result=[]\n",
    "    for j in items:\n",
    "        if z[j].varValue > MEPS:\n",
    "            r=[w[i] for i in items if x[i][j].varValue > MEPS]\n",
    "            result.append(r)\n",
    "    print(result)"
   ]
  },
  {
   "cell_type": "code",
   "execution_count": 191,
   "metadata": {
    "scrolled": false
   },
   "outputs": [
    {
     "name": "stdout",
     "output_type": "stream",
     "text": [
      "[9, 6, 8, 8, 9, 6, 5, 6, 7, 7, 5, 9, 5, 9, 5, 8, 7, 8, 9, 9, 5, 5, 5, 8, 5, 7, 5, 6, 9, 6, 8, 8, 5, 8, 5, 6, 5, 5, 9, 9, 9, 7, 6, 8, 5, 9, 5, 9, 8, 6, 8, 8, 8, 6, 8, 8, 9, 8, 6, 8]\n",
      "[[7, 5, 5, 8], [9, 7, 9], [8, 9, 8], [6, 5, 5, 9], [5, 6, 8, 6], [8, 6, 5, 6], [6, 6, 5, 8], [5, 6, 9, 5], [8, 9, 8], [9, 7, 9], [8, 9, 8], [6, 5, 9, 5], [9, 8, 8], [5, 7, 5, 8], [9, 8, 8], [5, 7, 5, 8], [9, 6, 8]]\n",
      "CPU times: user 92.9 ms, sys: 8.56 ms, total: 102 ms\n",
      "Wall time: 23.1 s\n"
     ]
    }
   ],
   "source": [
    "capacity = 25\n",
    "items = set(range(60))\n",
    "np.random.seed(7)\n",
    "w={i:np.random.randint(5,10) for i in items}\n",
    "w2= [w[i] for i in items]\n",
    "print(w2)\n",
    "\n",
    "%time binpacking(capacity,w)"
   ]
  },
  {
   "cell_type": "code",
   "execution_count": null,
   "metadata": {},
   "outputs": [],
   "source": []
  }
 ],
 "metadata": {
  "kernelspec": {
   "display_name": "Python 3",
   "language": "python",
   "name": "python3"
  },
  "language_info": {
   "codemirror_mode": {
    "name": "ipython",
    "version": 3
   },
   "file_extension": ".py",
   "mimetype": "text/x-python",
   "name": "python",
   "nbconvert_exporter": "python",
   "pygments_lexer": "ipython3",
   "version": "3.8.1"
  }
 },
 "nbformat": 4,
 "nbformat_minor": 4
}
