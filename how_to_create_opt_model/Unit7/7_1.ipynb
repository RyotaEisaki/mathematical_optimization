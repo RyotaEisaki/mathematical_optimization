{
 "cells": [
  {
   "cell_type": "code",
   "execution_count": 3,
   "metadata": {},
   "outputs": [],
   "source": [
    "# マス埋め問題\n",
    "# 1×1マスに1から3の数字のいずれか1つを入れることを考える。\n",
    "# 制約条件：1マスの数字の合計が2"
   ]
  },
  {
   "cell_type": "code",
   "execution_count": 6,
   "metadata": {},
   "outputs": [],
   "source": [
    "import pulp"
   ]
  },
  {
   "cell_type": "code",
   "execution_count": 7,
   "metadata": {},
   "outputs": [],
   "source": [
    "# 数理モデル作成\n",
    "model=pulp.LpProblem()"
   ]
  },
  {
   "cell_type": "code",
   "execution_count": 8,
   "metadata": {},
   "outputs": [],
   "source": [
    "# バイナリー変数を作成\n",
    "Var1=pulp.LpVariable('Var1',cat=pulp.LpBinary)\n",
    "Var2=pulp.LpVariable('Var2',cat=pulp.LpBinary)\n",
    "Var3=pulp.LpVariable('Var3',cat=pulp.LpBinary)"
   ]
  },
  {
   "cell_type": "code",
   "execution_count": 10,
   "metadata": {},
   "outputs": [],
   "source": [
    "# 制約式 1*Var1+2*Var2+3*Var3=2\n",
    "condition=(1*Var1+2*Var2+3*Var3==2)\n",
    "model += condition"
   ]
  },
  {
   "cell_type": "code",
   "execution_count": 11,
   "metadata": {},
   "outputs": [],
   "source": [
    "# 制約条件　Var1+Var2+Var3=1\n",
    "model += (Var1+Var2+Var3==1)"
   ]
  },
  {
   "cell_type": "code",
   "execution_count": 12,
   "metadata": {},
   "outputs": [
    {
     "data": {
      "text/plain": [
       "1"
      ]
     },
     "execution_count": 12,
     "metadata": {},
     "output_type": "execute_result"
    }
   ],
   "source": [
    "# 数理モデルを解く\n",
    "model.solve()"
   ]
  },
  {
   "cell_type": "code",
   "execution_count": 15,
   "metadata": {},
   "outputs": [
    {
     "name": "stdout",
     "output_type": "stream",
     "text": [
      "Var1 0.0\n",
      "Var2 1.0\n",
      "Var3 0.0\n",
      "Number 2.0\n"
     ]
    }
   ],
   "source": [
    "# 最適化された変数を参照\n",
    "print('Var1',pulp.value(Var1))\n",
    "print('Var2',pulp.value(Var2))\n",
    "print('Var3',pulp.value(Var3))\n",
    "print('Number',pulp.value(1*Var1+2*Var2+3*Var3))"
   ]
  },
  {
   "cell_type": "code",
   "execution_count": null,
   "metadata": {},
   "outputs": [],
   "source": []
  }
 ],
 "metadata": {
  "kernelspec": {
   "display_name": "Python 3",
   "language": "python",
   "name": "python3"
  },
  "language_info": {
   "codemirror_mode": {
    "name": "ipython",
    "version": 3
   },
   "file_extension": ".py",
   "mimetype": "text/x-python",
   "name": "python",
   "nbconvert_exporter": "python",
   "pygments_lexer": "ipython3",
   "version": "3.8.1"
  }
 },
 "nbformat": 4,
 "nbformat_minor": 4
}
