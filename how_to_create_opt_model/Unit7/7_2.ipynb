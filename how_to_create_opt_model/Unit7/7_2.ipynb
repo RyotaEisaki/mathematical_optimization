{
 "cells": [
  {
   "cell_type": "code",
   "execution_count": 1,
   "metadata": {},
   "outputs": [],
   "source": [
    "# リストを使って数理モデルを置き換える"
   ]
  },
  {
   "cell_type": "code",
   "execution_count": 2,
   "metadata": {},
   "outputs": [],
   "source": [
    "import pulp"
   ]
  },
  {
   "cell_type": "code",
   "execution_count": 3,
   "metadata": {},
   "outputs": [
    {
     "name": "stdout",
     "output_type": "stream",
     "text": [
      "Var0 0.0\n",
      "Var1 1.0\n",
      "Var2 0.0\n",
      "Number 2.0\n"
     ]
    }
   ],
   "source": [
    "model=pulp.LpProblem()\n",
    "Var=[pulp.LpVariable(f'Var{i}',cat=pulp.LpBinary)\n",
    "     for i in range(3)]\n",
    "model += (pulp.lpDot([1,2,3],Var)==2) # 内積の和\n",
    "model += (pulp.lpSum(Var) ==1) # リストの要素の和\n",
    "model.solve()\n",
    "for v in Var:\n",
    "    print(v.name, pulp.value(v))\n",
    "print('Number', pulp.value(pulp.lpDot([1,2,3],Var)))"
   ]
  },
  {
   "cell_type": "code",
   "execution_count": null,
   "metadata": {},
   "outputs": [],
   "source": []
  }
 ],
 "metadata": {
  "kernelspec": {
   "display_name": "Python 3",
   "language": "python",
   "name": "python3"
  },
  "language_info": {
   "codemirror_mode": {
    "name": "ipython",
    "version": 3
   },
   "file_extension": ".py",
   "mimetype": "text/x-python",
   "name": "python",
   "nbconvert_exporter": "python",
   "pygments_lexer": "ipython3",
   "version": "3.8.1"
  }
 },
 "nbformat": 4,
 "nbformat_minor": 4
}
