{
 "cells": [
  {
   "cell_type": "markdown",
   "metadata": {},
   "source": [
    "### 最適化モデル作成の高度なテクニック"
   ]
  },
  {
   "cell_type": "code",
   "execution_count": 2,
   "metadata": {},
   "outputs": [],
   "source": [
    "import numpy as np\n",
    "from pulp import *\n",
    "from ortoolpy import *"
   ]
  },
  {
   "cell_type": "code",
   "execution_count": 3,
   "metadata": {},
   "outputs": [],
   "source": [
    "m=LpProblem() # 数理モデル\n",
    "x1=addvars(10) # 一次元変数\n",
    "x= addvar() # 0次元変数\n",
    "z= addbinvar() # 0ー1変数\n",
    "m += lpSum(x) # 目的関数"
   ]
  },
  {
   "cell_type": "markdown",
   "metadata": {},
   "source": [
    "#### 変数をnp.arrayで作成する：Numpyのスライスなどの機能が使える"
   ]
  },
  {
   "cell_type": "code",
   "execution_count": 4,
   "metadata": {},
   "outputs": [],
   "source": [
    "x2=addvars(2,3) # 2行3列の二次元の変数(リスト)\n",
    "x3=np.array(x2) # 2行3列の二次元の変数(numpy)"
   ]
  },
  {
   "cell_type": "code",
   "execution_count": 5,
   "metadata": {},
   "outputs": [
    {
     "data": {
      "text/plain": [
       "[[v000013, v000014, v000015], [v000016, v000017, v000018]]"
      ]
     },
     "execution_count": 5,
     "metadata": {},
     "output_type": "execute_result"
    }
   ],
   "source": [
    "x2"
   ]
  },
  {
   "cell_type": "code",
   "execution_count": 6,
   "metadata": {},
   "outputs": [
    {
     "data": {
      "text/plain": [
       "array([[v000013, v000014, v000015],\n",
       "       [v000016, v000017, v000018]], dtype=object)"
      ]
     },
     "execution_count": 6,
     "metadata": {},
     "output_type": "execute_result"
    }
   ],
   "source": [
    "x3"
   ]
  },
  {
   "cell_type": "markdown",
   "metadata": {},
   "source": [
    "#### 結果をnp.vectorizeで取得する：内包表記より簡潔に記述でき、高速に動作する"
   ]
  },
  {
   "cell_type": "code",
   "execution_count": 9,
   "metadata": {},
   "outputs": [
    {
     "data": {
      "text/plain": [
       "[None, None, None, None, None, None, None, None, None, None]"
      ]
     },
     "execution_count": 9,
     "metadata": {},
     "output_type": "execute_result"
    }
   ],
   "source": [
    "# 内包表記\n",
    "val = [value(v) for v in x1]\n",
    "val"
   ]
  },
  {
   "cell_type": "code",
   "execution_count": 12,
   "metadata": {},
   "outputs": [
    {
     "data": {
      "text/plain": [
       "array([None, None, None, None, None, None, None, None, None, None],\n",
       "      dtype=object)"
      ]
     },
     "execution_count": 12,
     "metadata": {},
     "output_type": "execute_result"
    }
   ],
   "source": [
    "# np.vaectorize\n",
    "val=np.vectorize(value)(x1)\n",
    "val"
   ]
  },
  {
   "cell_type": "markdown",
   "metadata": {},
   "source": [
    "#### 変数の範囲を指定する：範囲が記述できる"
   ]
  },
  {
   "cell_type": "code",
   "execution_count": 15,
   "metadata": {},
   "outputs": [],
   "source": [
    "# 制約条件で指定する場合\n",
    "m += x >= 1\n",
    "m += x <= 3\n",
    "# 変数作成時に指定する場合\n",
    "x=LpVariable('x',lowBound=1,upBound=3)"
   ]
  },
  {
   "cell_type": "code",
   "execution_count": 16,
   "metadata": {},
   "outputs": [],
   "source": [
    "# 半連続変数：停止(0)とある上下限(10から100)しか許されていない場合\n",
    "# 0-1変数を使って記述\n",
    "m += x>= 10*z\n",
    "m += x<= 100*z "
   ]
  },
  {
   "cell_type": "code",
   "execution_count": 18,
   "metadata": {},
   "outputs": [],
   "source": [
    "# 2つに分かれた範囲(10以下か20以上)のどちらかしか取れない\n",
    "# 0-1変数と十分大きな数(M)を使って記述\n",
    "M=100 # サンプル\n",
    "m+=x <= 10+M*z # z=0の時有効条件、1の時無効条件\n",
    "m+=x>=20-M*(1-z)"
   ]
  },
  {
   "cell_type": "markdown",
   "metadata": {},
   "source": [
    "#### 変数リスト内の変数を全て同じ値とする制約条件をしてする：nこのペアはn(n-1)/2だけであるが、n-1個の制約条件を指定するだけで済む"
   ]
  },
  {
   "cell_type": "code",
   "execution_count": 19,
   "metadata": {},
   "outputs": [],
   "source": [
    "for vi, vj in zip(x1,x1[1:]):\n",
    "    m+=vi==vj"
   ]
  },
  {
   "cell_type": "markdown",
   "metadata": {},
   "source": [
    "#### リストの中のどれか1つを選ぶように制限する：制約条件を記述できる"
   ]
  },
  {
   "cell_type": "code",
   "execution_count": 21,
   "metadata": {},
   "outputs": [],
   "source": [
    " m += lpSum(x1) ==1"
   ]
  },
  {
   "cell_type": "markdown",
   "metadata": {},
   "source": [
    "#### リストの合計が1になるのを禁止する：制約条件を記述できる"
   ]
  },
  {
   "cell_type": "code",
   "execution_count": 23,
   "metadata": {},
   "outputs": [],
   "source": [
    "for v in x1:\n",
    "    m += 2*v <= lpSum(x1)"
   ]
  },
  {
   "cell_type": "markdown",
   "metadata": {},
   "source": [
    "#### 隣接制約を指定する：制約条件を記述できる\n",
    "- 隣接制約：2つの条件のうち、1つだけ満たしていれば良い"
   ]
  },
  {
   "cell_type": "code",
   "execution_count": 26,
   "metadata": {},
   "outputs": [
    {
     "name": "stdout",
     "output_type": "stream",
     "text": [
      "x,y=0,2.0\n",
      "x,y=1,1.0\n",
      "x,y=2,0.0\n",
      "x,y=3,-1.0\n",
      "x,y=4,-2.0\n"
     ]
    }
   ],
   "source": [
    "for x in [0,1,2,3,4]:\n",
    "    m=LpProblem()\n",
    "    y=addvar(lowBound=None)\n",
    "    m+=y # 目的関数（yの最小化）\n",
    "    m+=y>=2-x\n",
    "    m+=y>=-2-x\n",
    "    m.solve()\n",
    "    print(f'x,y={x},{value(y)}')"
   ]
  },
  {
   "cell_type": "code",
   "execution_count": 27,
   "metadata": {},
   "outputs": [
    {
     "name": "stdout",
     "output_type": "stream",
     "text": [
      "x,y=0,-2.0\n",
      "x,y=1,-1.0\n",
      "x,y=2,0.0\n",
      "x,y=3,-1.0\n",
      "x,y=4,-2.0\n"
     ]
    }
   ],
   "source": [
    "# 隣接制約\n",
    "M=4 # 十分大きな数\n",
    "for x in [0,1,2,3,4]:\n",
    "    m=LpProblem()\n",
    "    y=addvar(lowBound=None)\n",
    "    z=addbinvar() # 0-1変数\n",
    "    m += y\n",
    "    m += y >= 2-x-M*z\n",
    "    m += y >= -2 + x - M * (1-z)\n",
    "    m.solve()\n",
    "    print(f'x,y={x},{value(y)}')    "
   ]
  },
  {
   "cell_type": "markdown",
   "metadata": {},
   "source": [
    "#### く"
   ]
  }
 ],
 "metadata": {
  "kernelspec": {
   "display_name": "Python 3",
   "language": "python",
   "name": "python3"
  },
  "language_info": {
   "codemirror_mode": {
    "name": "ipython",
    "version": 3
   },
   "file_extension": ".py",
   "mimetype": "text/x-python",
   "name": "python",
   "nbconvert_exporter": "python",
   "pygments_lexer": "ipython3",
   "version": "3.8.1"
  }
 },
 "nbformat": 4,
 "nbformat_minor": 4
}
