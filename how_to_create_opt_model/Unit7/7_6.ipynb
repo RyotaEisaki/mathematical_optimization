{
 "cells": [
  {
   "cell_type": "markdown",
   "metadata": {},
   "source": [
    "### ナンプレを解く"
   ]
  },
  {
   "cell_type": "code",
   "execution_count": 6,
   "metadata": {},
   "outputs": [],
   "source": [
    "import re,pandas as pd\n",
    "from itertools import product\n",
    "from pulp import lpSum, value\n",
    "from ortoolpy import addbinvars, addvals, model_min"
   ]
  },
  {
   "cell_type": "code",
   "execution_count": 8,
   "metadata": {},
   "outputs": [],
   "source": [
    "s= ('. . 6 |. . . |. . 1 '\n",
    "    '. 7 . |. 6 . |. 5 . '\n",
    "    '8 . . |1 . 3 |2 . . '\n",
    "    '------+------+------'\n",
    "    '. . 5 |. 4 . |8 . . '\n",
    "    '. 4 . |7 . 2 |. 9 . '\n",
    "    '. . 8 |. 1 . |7 . . '\n",
    "    '------+------+------'\n",
    "    '. . 1 |2 . 5 |. . 3 '\n",
    "    '. 6 . |. 7 . |. 8 . '\n",
    "    '2 . . |. . . |4 . . ')\n",
    "    "
   ]
  },
  {
   "cell_type": "code",
   "execution_count": 17,
   "metadata": {},
   "outputs": [
    {
     "data": {
      "text/plain": [
       "(     行  列  _3x3  数      固      Var\n",
       " 0    0  0     0  1  False  v002188\n",
       " 1    0  0     0  2  False  v002189\n",
       " 2    0  0     0  3  False  v002190\n",
       " 3    0  0     0  4  False  v002191\n",
       " 4    0  0     0  5  False  v002192\n",
       " ..  .. ..   ... ..    ...      ...\n",
       " 724  8  8     8  5  False  v002912\n",
       " 725  8  8     8  6  False  v002913\n",
       " 726  8  8     8  7  False  v002914\n",
       " 727  8  8     8  8  False  v002915\n",
       " 728  8  8     8  9  False  v002916\n",
       " \n",
       " [729 rows x 6 columns],)"
      ]
     },
     "execution_count": 17,
     "metadata": {},
     "output_type": "execute_result"
    }
   ],
   "source": [
    "data=re.sub(r'[^\\d.]','',s) # 数字とドット以外を削除\n",
    "r=range(9)\n",
    "df= pd.DataFrame([(i,j,(i//3)*3+j//3,k+1,c==str(k+1))\n",
    "                  for (i,j),c in zip(product(r,r),data) for k in r],\n",
    "                 columns=['行','列','_3x3','数','固'])\n",
    "addbinvars(df)"
   ]
  },
  {
   "cell_type": "code",
   "execution_count": 18,
   "metadata": {
    "scrolled": true
   },
   "outputs": [
    {
     "data": {
      "text/plain": [
       "1"
      ]
     },
     "execution_count": 18,
     "metadata": {},
     "output_type": "execute_result"
    }
   ],
   "source": [
    "m=model_min()\n",
    "for c1 in [['行','列'],['行','数'],['列','数'],['_3x3','数']]:\n",
    "    for _, v in df.groupby(c1):\n",
    "        m+= lpSum(v.Var)==1\n",
    "for _,r in df[df.固==True].iterrows():\n",
    "    m+=r.Var==1\n",
    "m.solve()"
   ]
  },
  {
   "cell_type": "code",
   "execution_count": null,
   "metadata": {},
   "outputs": [],
   "source": [
    "addvals(df)\n",
    "print(df[df.Val>0.5].数.values.re"
   ]
  }
 ],
 "metadata": {
  "kernelspec": {
   "display_name": "Python 3",
   "language": "python",
   "name": "python3"
  },
  "language_info": {
   "codemirror_mode": {
    "name": "ipython",
    "version": 3
   },
   "file_extension": ".py",
   "mimetype": "text/x-python",
   "name": "python",
   "nbconvert_exporter": "python",
   "pygments_lexer": "ipython3",
   "version": "3.8.1"
  }
 },
 "nbformat": 4,
 "nbformat_minor": 4
}
