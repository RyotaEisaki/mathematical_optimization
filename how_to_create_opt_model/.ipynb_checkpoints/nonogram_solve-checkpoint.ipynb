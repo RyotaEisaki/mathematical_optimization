{
 "cells": [
  {
   "cell_type": "markdown",
   "metadata": {
    "cell_style": "split"
   },
   "source": [
    "<div style='float: right'><img src='pic/nonogram.png'/></div>\n",
    "\n",
    "# <div id='nonogram' />ノノグラム"
   ]
  },
  {
   "cell_type": "markdown",
   "metadata": {},
   "source": [
    "## 1. ライブラリーのインポート"
   ]
  },
  {
   "cell_type": "code",
   "execution_count": 1,
   "metadata": {
    "cell_style": "split"
   },
   "outputs": [],
   "source": [
    "#!pip3 install pulp ortoolpy\n",
    "%matplotlib inline\n",
    "import numpy as np, matplotlib.pyplot as plt\n",
    "from pulp import LpProblem, lpSum, value\n",
    "from ortoolpy import addvars, addbinvars"
   ]
  },
  {
   "cell_type": "markdown",
   "metadata": {},
   "source": [
    "## 2. 入力(与えられているヒント)の定義"
   ]
  },
  {
   "cell_type": "code",
   "execution_count": 2,
   "metadata": {},
   "outputs": [],
   "source": [
    "# # 1\n",
    "# 5×5\n",
    "# # 行に対してのヒント\n",
    "# row = [[int(s) for s in t.split(',')] for t in\n",
    "#          '3 2,2 1,1 2,2 3'.split()]\n",
    "# # 列に対してのヒント\n",
    "# column = [[int(s) for s in t.split(',')] for t in\n",
    "#          '3 2,2 1,1 2,2 3'.split()]"
   ]
  },
  {
   "cell_type": "code",
   "execution_count": 54,
   "metadata": {},
   "outputs": [],
   "source": [
    "# 2\n",
    "# 10×10\n",
    "# 行に対してのヒント\n",
    "row = [[int(s) for s in t.split(',')] for t in\n",
    "         '1,2 4,1,1 3,6 7 3,6 4,4 1,3 2 3,1 2,3'.split()]\n",
    "# 列に対してのヒント\n",
    "column = [[int(s) for s in t.split(',')] for t in\n",
    "         '1,1 2,2 5 2,1,2,1 5,2 3,1 6,2 1,5,1 8 2,4'.split()]"
   ]
  },
  {
   "cell_type": "code",
   "execution_count": 55,
   "metadata": {},
   "outputs": [],
   "source": [
    "# # 3\n",
    "# # 15×15\n",
    "# # 行に対してのヒント\n",
    "# row = [[int(s) for s in t.split(',')] for t in\n",
    "#          '1,1 1,2,1 3,2 1,1,1,6 3,4 3,2 3,1,2,2 1,2,1,2,3 2,3,3,4 4,2,9 7,9 4,2,9 3,1,9 3,2,8 4,5,3 10,1 10 10 9 3'.split()]\n",
    "# # 列に対してのヒント\n",
    "# column = [[int(s) for s in t.split(',')] for t in\n",
    "#          '1,6 1,8 1,10 3,3 3,1,1,1,3 15 8,5 7 1,9 12 6,4 8,3 2,7,3 2,1,6,3 4,6,2 3,6 9 7 3 4'.split()]"
   ]
  },
  {
   "cell_type": "code",
   "execution_count": 56,
   "metadata": {},
   "outputs": [],
   "source": [
    "# # 4\n",
    "# # 20×20\n",
    "# # 行に対してのヒント\n",
    "# row = [[int(s) for s in t.split(',')] for t in\n",
    "#          '3,2 1,1,1,1 1,2,1,2 1,2,1,1,3 1,1,2,1 2,3,1,2 9,3 2,3 1,2 1,1,1,1 1,4,1 1,2,2,2 1,1,1,1,1,1,2 2,1,1,2,1,1 3,4,3,1'.split()]\n",
    "# # 列に対してのヒント\n",
    "# column = [[int(s) for s in t.split(',')] for t in\n",
    "#          '4,3 1,6,2 1,2,2,1,1 1,2,2,1,2 2,2,3 2,1,3 1,1,1 2,1,4,1 1,1,1,1,2 1,4,2 1,1,2,1 2,7,1 2,1,1,2 1,2,1 3,3'.split()]"
   ]
  },
  {
   "cell_type": "markdown",
   "metadata": {},
   "source": [
    "### 2.1 行に対してのヒント"
   ]
  },
  {
   "cell_type": "code",
   "execution_count": 57,
   "metadata": {},
   "outputs": [
    {
     "data": {
      "text/plain": [
       "[[1, 2], [4, 1, 1], [3, 6], [7], [3, 6], [4, 4], [1, 3], [2], [3, 1], [2, 3]]"
      ]
     },
     "execution_count": 57,
     "metadata": {},
     "output_type": "execute_result"
    }
   ],
   "source": [
    "row"
   ]
  },
  {
   "cell_type": "markdown",
   "metadata": {},
   "source": [
    "### 2.2 列に対してのヒント"
   ]
  },
  {
   "cell_type": "code",
   "execution_count": 58,
   "metadata": {},
   "outputs": [
    {
     "data": {
      "text/plain": [
       "[[1, 1],\n",
       " [2, 2],\n",
       " [5],\n",
       " [2, 1, 2, 1],\n",
       " [5, 2],\n",
       " [3, 1],\n",
       " [6, 2],\n",
       " [1, 5, 1],\n",
       " [8],\n",
       " [2, 4]]"
      ]
     },
     "execution_count": 58,
     "metadata": {},
     "output_type": "execute_result"
    }
   ],
   "source": [
    "column"
   ]
  },
  {
   "cell_type": "markdown",
   "metadata": {},
   "source": [
    "### 2.3 問題のサイズ"
   ]
  },
  {
   "cell_type": "code",
   "execution_count": 59,
   "metadata": {},
   "outputs": [
    {
     "name": "stdout",
     "output_type": "stream",
     "text": [
      "Size:  10 × 10\n"
     ]
    }
   ],
   "source": [
    "print('Size: ',len(row),'×',len(column))"
   ]
  },
  {
   "cell_type": "markdown",
   "metadata": {},
   "source": [
    "## 3. 解を求める"
   ]
  },
  {
   "cell_type": "markdown",
   "metadata": {},
   "source": [
    "### 3.1 解候補を作成する関数"
   ]
  },
  {
   "cell_type": "code",
   "execution_count": 60,
   "metadata": {
    "scrolled": false
   },
   "outputs": [],
   "source": [
    "def makelist(i, j, k):\n",
    "    return [0] * i + [1] * j + [0] * k # 0がi個、1がj個、0がk個並んだ配列を返す\n",
    "# ex) [0]*4+[1]*3+[0]*2 → [0, 0, 0, 0, 1, 1, 1, 0, 0]"
   ]
  },
  {
   "cell_type": "markdown",
   "metadata": {},
   "source": [
    "#### 実行例"
   ]
  },
  {
   "cell_type": "code",
   "execution_count": 61,
   "metadata": {},
   "outputs": [
    {
     "data": {
      "text/plain": [
       "[[1, 1, 0, 0, 0, 0],\n",
       " [0, 1, 1, 0, 0, 0],\n",
       " [0, 0, 1, 1, 0, 0],\n",
       " [0, 0, 0, 1, 1, 0],\n",
       " [0, 0, 0, 0, 1, 1]]"
      ]
     },
     "execution_count": 61,
     "metadata": {},
     "output_type": "execute_result"
    }
   ],
   "source": [
    "n=6\n",
    "p=2\n",
    "[makelist(i, p, n - p - i) for i in range(n - p + 1)]"
   ]
  },
  {
   "cell_type": "markdown",
   "metadata": {},
   "source": [
    "### 3.2 各行(列)における解候補を列挙したリストを作成する"
   ]
  },
  {
   "cell_type": "code",
   "execution_count": 62,
   "metadata": {},
   "outputs": [],
   "source": [
    "def sol_list(n, l):\n",
    "    p = l[-1]\n",
    "    if len(l) == 1:\n",
    "        if n < p: return None\n",
    "        return [makelist(i, p, n - p - i) for i in range(n - p + 1)]\n",
    "    ll = l[:-1]\n",
    "    s = sum(ll) + len(ll) - 1\n",
    "    return [j + makelist(1, p, n - p - s - i - 1) \\\n",
    "        for i in range(n - p - s) for j in sol_list(i + s, ll)]"
   ]
  },
  {
   "cell_type": "markdown",
   "metadata": {},
   "source": [
    "#### 実行例"
   ]
  },
  {
   "cell_type": "code",
   "execution_count": 63,
   "metadata": {
    "scrolled": true
   },
   "outputs": [
    {
     "name": "stdout",
     "output_type": "stream",
     "text": [
      "[[1, 0, 1, 0, 0, 0, 0, 0, 0, 0], [1, 0, 0, 1, 0, 0, 0, 0, 0, 0], [0, 1, 0, 1, 0, 0, 0, 0, 0, 0], [1, 0, 0, 0, 1, 0, 0, 0, 0, 0], [0, 1, 0, 0, 1, 0, 0, 0, 0, 0], [0, 0, 1, 0, 1, 0, 0, 0, 0, 0], [1, 0, 0, 0, 0, 1, 0, 0, 0, 0], [0, 1, 0, 0, 0, 1, 0, 0, 0, 0], [0, 0, 1, 0, 0, 1, 0, 0, 0, 0], [0, 0, 0, 1, 0, 1, 0, 0, 0, 0], [1, 0, 0, 0, 0, 0, 1, 0, 0, 0], [0, 1, 0, 0, 0, 0, 1, 0, 0, 0], [0, 0, 1, 0, 0, 0, 1, 0, 0, 0], [0, 0, 0, 1, 0, 0, 1, 0, 0, 0], [0, 0, 0, 0, 1, 0, 1, 0, 0, 0], [1, 0, 0, 0, 0, 0, 0, 1, 0, 0], [0, 1, 0, 0, 0, 0, 0, 1, 0, 0], [0, 0, 1, 0, 0, 0, 0, 1, 0, 0], [0, 0, 0, 1, 0, 0, 0, 1, 0, 0], [0, 0, 0, 0, 1, 0, 0, 1, 0, 0], [0, 0, 0, 0, 0, 1, 0, 1, 0, 0], [1, 0, 0, 0, 0, 0, 0, 0, 1, 0], [0, 1, 0, 0, 0, 0, 0, 0, 1, 0], [0, 0, 1, 0, 0, 0, 0, 0, 1, 0], [0, 0, 0, 1, 0, 0, 0, 0, 1, 0], [0, 0, 0, 0, 1, 0, 0, 0, 1, 0], [0, 0, 0, 0, 0, 1, 0, 0, 1, 0], [0, 0, 0, 0, 0, 0, 1, 0, 1, 0], [1, 0, 0, 0, 0, 0, 0, 0, 0, 1], [0, 1, 0, 0, 0, 0, 0, 0, 0, 1], [0, 0, 1, 0, 0, 0, 0, 0, 0, 1], [0, 0, 0, 1, 0, 0, 0, 0, 0, 1], [0, 0, 0, 0, 1, 0, 0, 0, 0, 1], [0, 0, 0, 0, 0, 1, 0, 0, 0, 1], [0, 0, 0, 0, 0, 0, 1, 0, 0, 1], [0, 0, 0, 0, 0, 0, 0, 1, 0, 1]]\n",
      "--\n",
      "[[1, 1, 0, 1, 1, 0, 0, 0, 0, 0], [1, 1, 0, 0, 1, 1, 0, 0, 0, 0], [0, 1, 1, 0, 1, 1, 0, 0, 0, 0], [1, 1, 0, 0, 0, 1, 1, 0, 0, 0], [0, 1, 1, 0, 0, 1, 1, 0, 0, 0], [0, 0, 1, 1, 0, 1, 1, 0, 0, 0], [1, 1, 0, 0, 0, 0, 1, 1, 0, 0], [0, 1, 1, 0, 0, 0, 1, 1, 0, 0], [0, 0, 1, 1, 0, 0, 1, 1, 0, 0], [0, 0, 0, 1, 1, 0, 1, 1, 0, 0], [1, 1, 0, 0, 0, 0, 0, 1, 1, 0], [0, 1, 1, 0, 0, 0, 0, 1, 1, 0], [0, 0, 1, 1, 0, 0, 0, 1, 1, 0], [0, 0, 0, 1, 1, 0, 0, 1, 1, 0], [0, 0, 0, 0, 1, 1, 0, 1, 1, 0], [1, 1, 0, 0, 0, 0, 0, 0, 1, 1], [0, 1, 1, 0, 0, 0, 0, 0, 1, 1], [0, 0, 1, 1, 0, 0, 0, 0, 1, 1], [0, 0, 0, 1, 1, 0, 0, 0, 1, 1], [0, 0, 0, 0, 1, 1, 0, 0, 1, 1], [0, 0, 0, 0, 0, 1, 1, 0, 1, 1]]\n",
      "--\n",
      "[[1, 1, 1, 1, 1, 0, 0, 0, 0, 0], [0, 1, 1, 1, 1, 1, 0, 0, 0, 0], [0, 0, 1, 1, 1, 1, 1, 0, 0, 0], [0, 0, 0, 1, 1, 1, 1, 1, 0, 0], [0, 0, 0, 0, 1, 1, 1, 1, 1, 0], [0, 0, 0, 0, 0, 1, 1, 1, 1, 1]]\n",
      "--\n",
      "[[1, 1, 0, 1, 0, 1, 1, 0, 1, 0], [1, 1, 0, 1, 0, 1, 1, 0, 0, 1], [1, 1, 0, 1, 0, 0, 1, 1, 0, 1], [1, 1, 0, 0, 1, 0, 1, 1, 0, 1], [0, 1, 1, 0, 1, 0, 1, 1, 0, 1]]\n",
      "--\n",
      "[[1, 1, 1, 1, 1, 0, 1, 1, 0, 0], [1, 1, 1, 1, 1, 0, 0, 1, 1, 0], [0, 1, 1, 1, 1, 1, 0, 1, 1, 0], [1, 1, 1, 1, 1, 0, 0, 0, 1, 1], [0, 1, 1, 1, 1, 1, 0, 0, 1, 1], [0, 0, 1, 1, 1, 1, 1, 0, 1, 1]]\n",
      "--\n",
      "[[1, 1, 1, 0, 1, 0, 0, 0, 0, 0], [1, 1, 1, 0, 0, 1, 0, 0, 0, 0], [0, 1, 1, 1, 0, 1, 0, 0, 0, 0], [1, 1, 1, 0, 0, 0, 1, 0, 0, 0], [0, 1, 1, 1, 0, 0, 1, 0, 0, 0], [0, 0, 1, 1, 1, 0, 1, 0, 0, 0], [1, 1, 1, 0, 0, 0, 0, 1, 0, 0], [0, 1, 1, 1, 0, 0, 0, 1, 0, 0], [0, 0, 1, 1, 1, 0, 0, 1, 0, 0], [0, 0, 0, 1, 1, 1, 0, 1, 0, 0], [1, 1, 1, 0, 0, 0, 0, 0, 1, 0], [0, 1, 1, 1, 0, 0, 0, 0, 1, 0], [0, 0, 1, 1, 1, 0, 0, 0, 1, 0], [0, 0, 0, 1, 1, 1, 0, 0, 1, 0], [0, 0, 0, 0, 1, 1, 1, 0, 1, 0], [1, 1, 1, 0, 0, 0, 0, 0, 0, 1], [0, 1, 1, 1, 0, 0, 0, 0, 0, 1], [0, 0, 1, 1, 1, 0, 0, 0, 0, 1], [0, 0, 0, 1, 1, 1, 0, 0, 0, 1], [0, 0, 0, 0, 1, 1, 1, 0, 0, 1], [0, 0, 0, 0, 0, 1, 1, 1, 0, 1]]\n",
      "--\n",
      "[[1, 1, 1, 1, 1, 1, 0, 1, 1, 0], [1, 1, 1, 1, 1, 1, 0, 0, 1, 1], [0, 1, 1, 1, 1, 1, 1, 0, 1, 1]]\n",
      "--\n",
      "[[1, 0, 1, 1, 1, 1, 1, 0, 1, 0], [1, 0, 1, 1, 1, 1, 1, 0, 0, 1], [1, 0, 0, 1, 1, 1, 1, 1, 0, 1], [0, 1, 0, 1, 1, 1, 1, 1, 0, 1]]\n",
      "--\n",
      "[[1, 1, 1, 1, 1, 1, 1, 1, 0, 0], [0, 1, 1, 1, 1, 1, 1, 1, 1, 0], [0, 0, 1, 1, 1, 1, 1, 1, 1, 1]]\n",
      "--\n",
      "[[1, 1, 0, 1, 1, 1, 1, 0, 0, 0], [1, 1, 0, 0, 1, 1, 1, 1, 0, 0], [0, 1, 1, 0, 1, 1, 1, 1, 0, 0], [1, 1, 0, 0, 0, 1, 1, 1, 1, 0], [0, 1, 1, 0, 0, 1, 1, 1, 1, 0], [0, 0, 1, 1, 0, 1, 1, 1, 1, 0], [1, 1, 0, 0, 0, 0, 1, 1, 1, 1], [0, 1, 1, 0, 0, 0, 1, 1, 1, 1], [0, 0, 1, 1, 0, 0, 1, 1, 1, 1], [0, 0, 0, 1, 1, 0, 1, 1, 1, 1]]\n",
      "--\n"
     ]
    }
   ],
   "source": [
    "for i, hh in enumerate(column):\n",
    "        l = sol_list(len(column), hh) # (vの列数, ヒントの内容)\n",
    "        print(l)\n",
    "        print('--')\n",
    "# column: [[3], [2, 2], [1, 1], [2, 2], [3]]"
   ]
  },
  {
   "cell_type": "markdown",
   "metadata": {},
   "source": [
    "### 3.3 制約条件、目的関数の定義"
   ]
  },
  {
   "cell_type": "code",
   "execution_count": 64,
   "metadata": {},
   "outputs": [],
   "source": [
    "def do(m, v, hint):\n",
    "    for i, hh in enumerate(hint):\n",
    "        l = sol_list(v.shape[0], hh) # 引数：(問題のサイズ, ヒントの内容)→各行(列)に対する解候補を列挙したリストを作成\n",
    "        r = addbinvars(len(l)) # 𝑟𝑘∈{0,1} ∀𝑘,行または列   行(列)ごとに解候補を列挙したリスト内の𝑘番目の候補を選ぶかどうか　1→選ぶ\n",
    "        m += lpSum(r) == 1 # ∑𝑘𝑟𝑘=1 ∀行または列    行または列ごとに候補の中から1つ選ぶ\n",
    "        for j, c in enumerate(l):\n",
    "            for k, b in enumerate(c):\n",
    "                m += (1 - 2 * b) * v[k,i] <= 1 - b - r[j] # 候補を選んだ通りにマスの色を塗る"
   ]
  },
  {
   "cell_type": "code",
   "execution_count": 65,
   "metadata": {},
   "outputs": [],
   "source": [
    "# def do(m, v, hint):\n",
    "#     for i, hh in enumerate(hint):\n",
    "#         l = sol_list(v.shape[0], hh)\n",
    "#         r = addbinvars(len(l)) # (2)\n",
    "#         m += lpSum(r) == 1 # (3)\n",
    "#         for j, c in enumerate(l):\n",
    "#             for k, b in enumerate(c):\n",
    "#                 m += (1 - 2 * b) * v[k,i] <= 1 - b - r[j]"
   ]
  },
  {
   "cell_type": "markdown",
   "metadata": {},
   "source": [
    "## 4. 最適化の実行"
   ]
  },
  {
   "cell_type": "code",
   "execution_count": 66,
   "metadata": {},
   "outputs": [
    {
     "name": "stdout",
     "output_type": "stream",
     "text": [
      "CPU times: user 41.2 ms, sys: 5.24 ms, total: 46.4 ms\n",
      "Wall time: 93 ms\n"
     ]
    },
    {
     "data": {
      "text/plain": [
       "1"
      ]
     },
     "execution_count": 66,
     "metadata": {},
     "output_type": "execute_result"
    }
   ],
   "source": [
    "m = LpProblem()\n",
    "v = np.array(addvars(len(row), len(column))) # 𝑣𝑖𝑗∈{0,1} ∀𝑖,𝑗   マス𝑖,𝑗が黒かどうか\n",
    "do(m, v, row) # 列について\n",
    "do(m, v.T, column) # 行について\n",
    "# %timeit -n5 m.solve()\n",
    "%time m.solve()\n",
    "# m.solve()"
   ]
  },
  {
   "cell_type": "markdown",
   "metadata": {},
   "source": [
    "### 結果の表示"
   ]
  },
  {
   "cell_type": "code",
   "execution_count": 67,
   "metadata": {},
   "outputs": [
    {
     "data": {
      "image/png": "[encoded data removed]",
      "text/plain": [
       "<Figure size 432x288 with 1 Axes>"
      ]
     },
     "metadata": {
      "image/png": {
       "height": 248,
       "width": 245
      },
      "needs_background": "light"
     },
     "output_type": "display_data"
    }
   ],
   "source": [
    "%config InlineBackend.figure_formats={'png','retina'}\n",
    "plt.imshow(1-np.vectorize(value)(v), cmap='gray', interpolation='none');"
   ]
  },
  {
   "cell_type": "code",
   "execution_count": null,
   "metadata": {},
   "outputs": [],
   "source": []
  },
  {
   "cell_type": "code",
   "execution_count": null,
   "metadata": {},
   "outputs": [],
   "source": []
  }
 ],
 "metadata": {
  "kernelspec": {
   "display_name": "Python 3",
   "language": "python",
   "name": "python3"
  },
  "language_info": {
   "codemirror_mode": {
    "name": "ipython",
    "version": 3
   },
   "file_extension": ".py",
   "mimetype": "text/x-python",
   "name": "python",
   "nbconvert_exporter": "python",
   "pygments_lexer": "ipython3",
   "version": "3.8.1"
  }
 },
 "nbformat": 4,
 "nbformat_minor": 4
}
