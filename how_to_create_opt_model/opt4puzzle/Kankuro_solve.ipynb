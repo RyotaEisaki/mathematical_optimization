{
 "cells": [
  {
   "attachments": {},
   "cell_type": "markdown",
   "metadata": {
    "cell_style": "split"
   },
   "source": [
    "## <div id='kakkuro' />カックロ"
   ]
  },
  {
   "cell_type": "code",
   "execution_count": 69,
   "metadata": {
    "cell_style": "split"
   },
   "outputs": [],
   "source": [
    "#!pip3 install pulp ortoolpy\n",
    "import re, numpy as np, pandas as pd\n",
    "from pulp import LpProblem, lpDot, lpSum, value\n",
    "from ortoolpy import addvar, addvars, addbinvar, addbinvars"
   ]
  },
  {
   "cell_type": "code",
   "execution_count": 70,
   "metadata": {},
   "outputs": [],
   "source": [
    "# data = \"\"\"\\\n",
    "# ###...\n",
    "# ..#...\n",
    "# ....##\n",
    "# ##....\n",
    "# ...#..\n",
    "# ...###\"\"\".splitlines()\n",
    "\n",
    "# hint_v = [ # 開始行、開始列、個数、合計\n",
    "#     (0,3,4,10),\n",
    "#     (0,4,2,4),\n",
    "#     (0,5,2,3),\n",
    "   \n",
    "#     (1,0,2,3),\n",
    "#     (1,1,2,4),\n",
    "    \n",
    "#     (2,2,4,20),\n",
    "    \n",
    "#     (3,4,2,17),\n",
    "#     (3,5,2,16),\n",
    "   \n",
    "    \n",
    "#     (4,0,2,17),\n",
    "#     (4,1,2,16),\n",
    "    \n",
    "# ]\n",
    "# hint_h = [ # 開始行、開始列、個数、合計\n",
    "#     (0,3,3,7),\n",
    "    \n",
    "#     (1,0,2,4),\n",
    "#     (1,3,3,6),\n",
    "    \n",
    "#     (2,0,4,10),\n",
    "    \n",
    "#     (3,2,4,19),\n",
    "    \n",
    "#     (4,0,3,23),\n",
    "#     (4,4,2,17),\n",
    "    \n",
    "#     (5,0,3,24),\n",
    "# ]"
   ]
  },
  {
   "cell_type": "code",
   "execution_count": 71,
   "metadata": {},
   "outputs": [],
   "source": [
    "# data = \"\"\"\\\n",
    "# #..##\n",
    "# .....\n",
    "# ..#..\n",
    "# .....\n",
    "# ##..#\"\"\".splitlines()\n",
    "# hint_v = [ # 開始行、開始列、個数、合計\n",
    "#     (0,1,4,10),\n",
    "#     (0,2,2,4),\n",
    "   \n",
    "#     (1,0,3,7),\n",
    "#     (1,3,4,30),\n",
    "#     (1,4,3,8),\n",
    "    \n",
    "#     (3,2,2,9),\n",
    "# ]\n",
    "# hint_h = [ # 開始行、開始列、個数、合計\n",
    "#     (0,1,2,3),\n",
    "    \n",
    "#     (1,0,5,16),   \n",
    "    \n",
    "#     (2,0,2,3),\n",
    "#     (2,3,2,13),\n",
    "    \n",
    "#     (3,0,5,17),\n",
    "    \n",
    "#     (4,2,2,16),\n",
    "   \n",
    "# ]\n"
   ]
  },
  {
   "cell_type": "code",
   "execution_count": 72,
   "metadata": {},
   "outputs": [],
   "source": [
    "data = \"\"\"\\\n",
    "#...#....\n",
    "....#....\n",
    "..#...#..\n",
    ".....#...\n",
    "##.....##\n",
    "...#.....\n",
    "..#...#..\n",
    "....#....\n",
    "....#...#\"\"\".splitlines()\n",
    "\n",
    "hint_v = [ # 開始行、開始列、個数、合計\n",
    "    (0,1,4,27),\n",
    "    (0,2,2,15),\n",
    "    (0,3,5,17),\n",
    "    (0,5,3,21),\n",
    "    (0,6,2,4),\n",
    "    (0,7,4,10),\n",
    "    (0,8,4,17),\n",
    "    \n",
    "    (1,0,3,10),\n",
    "   \n",
    "    (2,4,5,34),\n",
    "    \n",
    "    (3,2,3,7),\n",
    "    (3,6,3,21),\n",
    "      \n",
    "    (4,5,5,16),\n",
    "    \n",
    "    (5,0,4,14),\n",
    "    (5,1,4,29),\n",
    "    (5,7,4,30),\n",
    "    (5,8,3,7),\n",
    "    \n",
    "    (6,3,3,20),\n",
    "    \n",
    "    (7,2,2,4),\n",
    "    (7,6,2,5),\n",
    "]\n",
    "hint_h = [ # 開始行、開始列、個数、合計\n",
    "    (0,1,3,19),\n",
    "    (0,5,4,14),\n",
    "    \n",
    "    (1,0,4,12),\n",
    "    (1,5,4,12),\n",
    "    \n",
    "    (2,0,2,11),\n",
    "    (2,3,3,23),\n",
    "    (2,7,2,13),\n",
    "    \n",
    "    (3,0,5,33),\n",
    "    (3,6,3,8),\n",
    "    \n",
    "    (4,2,5,18),\n",
    "   \n",
    "    (5,0,3,13),\n",
    "    (5,4,5,29),\n",
    "    \n",
    "    (6,0,2,16),\n",
    "    (6,3,3,22),\n",
    "    (6,7,2,13),\n",
    "    \n",
    "    (7,0,4,19),\n",
    "    (7,5,4,12),\n",
    "    \n",
    "    (8,0,4,11),\n",
    "    (8,5,3,10),\n",
    "]"
   ]
  },
  {
   "cell_type": "code",
   "execution_count": 73,
   "metadata": {},
   "outputs": [],
   "source": [
    "ni,nj = len(data),len(data[0])\n",
    "a = pd.DataFrame([(i,j,k) for i in range(ni) for j in range(nj)\n",
    "    if data[i][j]=='.' for k in range(1,10)], columns=list('行列数'))\n",
    "a['Var'] = addbinvars(len(a))"
   ]
  },
  {
   "cell_type": "code",
   "execution_count": 74,
   "metadata": {},
   "outputs": [
    {
     "name": "stdout",
     "output_type": "stream",
     "text": [
      "ni:  9\n",
      "nj:  9\n"
     ]
    }
   ],
   "source": [
    "print('ni: ',ni)\n",
    "print('nj: ',nj)"
   ]
  },
  {
   "cell_type": "code",
   "execution_count": 75,
   "metadata": {},
   "outputs": [
    {
     "name": "stdout",
     "output_type": "stream",
     "text": [
      "     行  列  数      Var\n",
      "0    0  1  1  v002125\n",
      "1    0  1  2  v002126\n",
      "2    0  1  3  v002127\n",
      "3    0  1  4  v002128\n",
      "4    0  1  5  v002129\n",
      "..  .. .. ..      ...\n",
      "580  8  7  5  v002705\n",
      "581  8  7  6  v002706\n",
      "582  8  7  7  v002707\n",
      "583  8  7  8  v002708\n",
      "584  8  7  9  v002709\n",
      "\n",
      "[585 rows x 4 columns]\n"
     ]
    }
   ],
   "source": [
    "print(a)"
   ]
  },
  {
   "cell_type": "code",
   "execution_count": 76,
   "metadata": {},
   "outputs": [
    {
     "name": "stdout",
     "output_type": "stream",
     "text": [
      "CPU times: user 12.6 ms, sys: 3.84 ms, total: 16.4 ms\n",
      "Wall time: 715 ms\n"
     ]
    },
    {
     "data": {
      "text/plain": [
       "1"
      ]
     },
     "execution_count": 76,
     "metadata": {},
     "output_type": "execute_result"
    }
   ],
   "source": [
    "m = LpProblem()\n",
    "for _,v in a.groupby(['行','列']):\n",
    "    m += lpSum(v.Var) == 1 \n",
    "for (di,dj),hint in zip([(1,0),(0,1)],[hint_v,hint_h]):\n",
    "    for si,sj,nl,sm in hint:\n",
    "        b = a.query(f'{si}<=行<={si+nl*di}&{sj}<=列<={sj+nl*dj}')[['数','Var']]\n",
    "        for _,v in b.groupby('数'):\n",
    "            m += lpSum(v.Var) <= 1 \n",
    "        m += lpDot(*b.T.values) == sm \n",
    "%time m.solve()"
   ]
  },
  {
   "cell_type": "code",
   "execution_count": 77,
   "metadata": {},
   "outputs": [
    {
     "name": "stdout",
     "output_type": "stream",
     "text": [
      "#793#8312\n",
      "1362#4125\n",
      "29#689#49\n",
      "78459#431\n",
      "##21438##\n",
      "481#64982\n",
      "79#976#94\n",
      "1738#2361\n",
      "2513#127#\n"
     ]
    }
   ],
   "source": [
    "a['Val'] = a.Var.apply(value)\n",
    "r = a[a.Val>0.5].数[::-1].tolist()\n",
    "print(re.sub('\\\\.', lambda _: str(r.pop()), '\\n'.join(data)))"
   ]
  },
  {
   "cell_type": "code",
   "execution_count": null,
   "metadata": {},
   "outputs": [],
   "source": []
  }
 ],
 "metadata": {
  "anaconda-cloud": {},
  "kernelspec": {
   "display_name": "Python 3",
   "language": "python",
   "name": "python3"
  },
  "language_info": {
   "codemirror_mode": {
    "name": "ipython",
    "version": 3
   },
   "file_extension": ".py",
   "mimetype": "text/x-python",
   "name": "python",
   "nbconvert_exporter": "python",
   "pygments_lexer": "ipython3",
   "version": "3.8.1"
  },
  "toc": {
   "nav_menu": {},
   "number_sections": false,
   "sideBar": true,
   "skip_h1_title": false,
   "toc_cell": false,
   "toc_position": {},
   "toc_section_display": "block",
   "toc_window_display": false
  },
  "varInspector": {
   "cols": {
    "lenName": 16,
    "lenType": 16,
    "lenVar": 40
   },
   "kernels_config": {
    "python": {
     "delete_cmd_postfix": "",
     "delete_cmd_prefix": "del ",
     "library": "var_list.py",
     "varRefreshCmd": "print(var_dic_list())"
    },
    "r": {
     "delete_cmd_postfix": ") ",
     "delete_cmd_prefix": "rm(",
     "library": "var_list.r",
     "varRefreshCmd": "cat(var_dic_list()) "
    }
   },
   "types_to_exclude": [
    "module",
    "function",
    "builtin_function_or_method",
    "instance",
    "_Feature"
   ],
   "window_display": false
  }
 },
 "nbformat": 4,
 "nbformat_minor": 1
}
