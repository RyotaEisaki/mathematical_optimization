{
 "cells": [
  {
   "cell_type": "markdown",
   "metadata": {
    "cell_style": "split"
   },
   "source": [
    "## <div id='kakkuro' />カックロ"
   ]
  },
  {
   "cell_type": "code",
   "execution_count": 62,
   "metadata": {
    "cell_style": "split"
   },
   "outputs": [],
   "source": [
    "#!pip3 install pulp ortoolpy\n",
    "import re, numpy as np, pandas as pd\n",
    "from pulp import LpProblem, lpDot, lpSum, value\n",
    "from ortoolpy import addvar, addvars, addbinvar, addbinvars"
   ]
  },
  {
   "cell_type": "code",
   "execution_count": 63,
   "metadata": {},
   "outputs": [],
   "source": [
    "# data = \"\"\"\\\n",
    "# ###...\n",
    "# ..#...\n",
    "# ....##\n",
    "# ##....\n",
    "# ...#..\n",
    "# ...###\"\"\".splitlines()\n",
    "\n",
    "# hint_v = [ # 開始行、開始列、個数、合計\n",
    "#     (0,3,4,10),\n",
    "#     (0,4,2,4),\n",
    "#     (0,5,2,3),\n",
    "   \n",
    "#     (1,0,2,3),\n",
    "#     (1,1,2,4),\n",
    "    \n",
    "#     (2,2,4,20),\n",
    "    \n",
    "#     (3,4,2,17),\n",
    "#     (3,5,2,16),\n",
    "   \n",
    "    \n",
    "#     (4,0,2,17),\n",
    "#     (4,1,2,16),\n",
    "    \n",
    "# ]\n",
    "# hint_h = [ # 開始行、開始列、個数、合計\n",
    "#     (0,3,3,7),\n",
    "    \n",
    "#     (1,0,2,4),\n",
    "#     (1,3,3,6),\n",
    "    \n",
    "#     (2,0,4,10),\n",
    "    \n",
    "#     (3,2,4,19),\n",
    "    \n",
    "#     (4,0,3,23),\n",
    "#     (4,4,2,17),\n",
    "    \n",
    "#     (5,0,3,24),\n",
    "# ]"
   ]
  },
  {
   "cell_type": "code",
   "execution_count": 64,
   "metadata": {},
   "outputs": [],
   "source": [
    "ni,nj = len(data),len(data[0])\n",
    "a = pd.DataFrame([(i,j,k) for i in range(ni) for j in range(nj)\n",
    "    if data[i][j]=='.' for k in range(1,10)], columns=list('行列数'))\n",
    "a['Var'] = addbinvars(len(a))"
   ]
  },
  {
   "cell_type": "code",
   "execution_count": 65,
   "metadata": {},
   "outputs": [
    {
     "name": "stdout",
     "output_type": "stream",
     "text": [
      "ni:  5\n",
      "nj:  5\n"
     ]
    }
   ],
   "source": [
    "print('ni: ',ni)\n",
    "print('nj: ',nj)"
   ]
  },
  {
   "cell_type": "code",
   "execution_count": 66,
   "metadata": {},
   "outputs": [
    {
     "name": "stdout",
     "output_type": "stream",
     "text": [
      "     行  列  数      Var\n",
      "0    0  1  1  v001963\n",
      "1    0  1  2  v001964\n",
      "2    0  1  3  v001965\n",
      "3    0  1  4  v001966\n",
      "4    0  1  5  v001967\n",
      "..  .. .. ..      ...\n",
      "157  4  3  5  v002120\n",
      "158  4  3  6  v002121\n",
      "159  4  3  7  v002122\n",
      "160  4  3  8  v002123\n",
      "161  4  3  9  v002124\n",
      "\n",
      "[162 rows x 4 columns]\n"
     ]
    }
   ],
   "source": [
    "print(a)"
   ]
  },
  {
   "cell_type": "code",
   "execution_count": 67,
   "metadata": {},
   "outputs": [
    {
     "name": "stdout",
     "output_type": "stream",
     "text": [
      "CPU times: user 3.61 ms, sys: 3.2 ms, total: 6.81 ms\n",
      "Wall time: 16.4 ms\n"
     ]
    },
    {
     "data": {
      "text/plain": [
       "1"
      ]
     },
     "execution_count": 67,
     "metadata": {},
     "output_type": "execute_result"
    }
   ],
   "source": [
    "m = LpProblem()\n",
    "for _,v in a.groupby(['行','列']):\n",
    "    m += lpSum(v.Var) == 1 \n",
    "for (di,dj),hint in zip([(1,0),(0,1)],[hint_v,hint_h]):\n",
    "    for si,sj,nl,sm in hint:\n",
    "        b = a.query(f'{si}<=行<={si+nl*di}&{sj}<=列<={sj+nl*dj}')[['数','Var']]\n",
    "        for _,v in b.groupby('数'):\n",
    "            m += lpSum(v.Var) <= 1 \n",
    "        m += lpDot(*b.T.values) == sm \n",
    "%time m.solve()"
   ]
  },
  {
   "cell_type": "code",
   "execution_count": 68,
   "metadata": {},
   "outputs": [
    {
     "name": "stdout",
     "output_type": "stream",
     "text": [
      "#21##\n",
      "14362\n",
      "21#85\n",
      "43271\n",
      "##79#\n"
     ]
    }
   ],
   "source": [
    "a['Val'] = a.Var.apply(value)\n",
    "r = a[a.Val>0.5].数[::-1].tolist()\n",
    "print(re.sub('\\\\.', lambda _: str(r.pop()), '\\n'.join(data)))"
   ]
  },
  {
   "cell_type": "code",
   "execution_count": null,
   "metadata": {},
   "outputs": [],
   "source": []
  }
 ],
 "metadata": {
  "anaconda-cloud": {},
  "kernelspec": {
   "display_name": "Python 3",
   "language": "python",
   "name": "python3"
  },
  "language_info": {
   "codemirror_mode": {
    "name": "ipython",
    "version": 3
   },
   "file_extension": ".py",
   "mimetype": "text/x-python",
   "name": "python",
   "nbconvert_exporter": "python",
   "pygments_lexer": "ipython3",
   "version": "3.8.1"
  },
  "toc": {
   "nav_menu": {},
   "number_sections": false,
   "sideBar": true,
   "skip_h1_title": false,
   "toc_cell": false,
   "toc_position": {},
   "toc_section_display": "block",
   "toc_window_display": false
  },
  "varInspector": {
   "cols": {
    "lenName": 16,
    "lenType": 16,
    "lenVar": 40
   },
   "kernels_config": {
    "python": {
     "delete_cmd_postfix": "",
     "delete_cmd_prefix": "del ",
     "library": "var_list.py",
     "varRefreshCmd": "print(var_dic_list())"
    },
    "r": {
     "delete_cmd_postfix": ") ",
     "delete_cmd_prefix": "rm(",
     "library": "var_list.r",
     "varRefreshCmd": "cat(var_dic_list()) "
    }
   },
   "types_to_exclude": [
    "module",
    "function",
    "builtin_function_or_method",
    "instance",
    "_Feature"
   ],
   "window_display": false
  }
 },
 "nbformat": 4,
 "nbformat_minor": 1
}
